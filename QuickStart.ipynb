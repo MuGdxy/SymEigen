{
 "cells": [
  {
   "cell_type": "markdown",
   "metadata": {},
   "source": [
    "First, we import SymEigen."
   ]
  },
  {
   "cell_type": "code",
   "execution_count": 3,
   "metadata": {},
   "outputs": [],
   "source": [
    "from SymEigen import *\n",
    "from sympy import sqrt, Matrix"
   ]
  },
  {
   "cell_type": "markdown",
   "metadata": {},
   "source": [
    "Say, we are calculating the Energy of a spring.\n",
    "$$\n",
    "E = \\frac{1}{2} k (|\\mathbf{x}-\\mathbf{y}| - L_0)^2\n",
    "$$\n",
    "To compactly write the equation, we can define the following variables, fully 6 Dof:\n",
    "$$\n",
    "\\mathbf{X} = \n",
    "\\begin{bmatrix}\n",
    "\\mathbf{x} \\\\\n",
    "\\mathbf{y} \n",
    "\\end{bmatrix}\n",
    "$$\n",
    "Then we can define such a matrix as follows:"
   ]
  },
  {
   "cell_type": "code",
   "execution_count": 4,
   "metadata": {},
   "outputs": [
    {
     "data": {
      "text/latex": [
       "$\\displaystyle \\left[\\begin{matrix}X(0)\\\\X(1)\\\\X(2)\\\\X(3)\\\\X(4)\\\\X(5)\\end{matrix}\\right]$"
      ],
      "text/plain": [
       "Matrix([\n",
       "[X(0)],\n",
       "[X(1)],\n",
       "[X(2)],\n",
       "[X(3)],\n",
       "[X(4)],\n",
       "[X(5)]])"
      ]
     },
     "execution_count": 4,
     "metadata": {},
     "output_type": "execute_result"
    }
   ],
   "source": [
    "X = Eigen.Vector('X', 6)\n",
    "X"
   ]
  },
  {
   "cell_type": "markdown",
   "metadata": {},
   "source": [
    "Other coefficients are defined as follows:"
   ]
  },
  {
   "cell_type": "code",
   "execution_count": 5,
   "metadata": {},
   "outputs": [],
   "source": [
    "k = Eigen.Scalar('k')\n",
    "L0 = Eigen.Scalar('L0')"
   ]
  },
  {
   "cell_type": "markdown",
   "metadata": {},
   "source": [
    "It's easy to calculate the Energy as follows:"
   ]
  },
  {
   "cell_type": "code",
   "execution_count": 6,
   "metadata": {},
   "outputs": [
    {
     "data": {
      "text/latex": [
       "$\\displaystyle \\left[\\begin{matrix}\\frac{k \\left(- L_{0} + \\sqrt{\\left(X(0) - X(3)\\right)^{2} + \\left(X(1) - X(4)\\right)^{2} + \\left(X(2) - X(5)\\right)^{2}}\\right)^{2}}{2}\\end{matrix}\\right]$"
      ],
      "text/plain": [
       "Matrix([[k*(-L0 + sqrt((X(0) - X(3))**2 + (X(1) - X(4))**2 + (X(2) - X(5))**2))**2/2]])"
      ]
     },
     "execution_count": 6,
     "metadata": {},
     "output_type": "execute_result"
    }
   ],
   "source": [
    "X_l = Matrix(X[0:3])\n",
    "X_r = Matrix(X[3:6])\n",
    "d = X_l - X_r \n",
    "\n",
    "E = k * (sqrt(d.T * d) - L0)**2 / 2\n",
    "E"
   ]
  },
  {
   "cell_type": "markdown",
   "metadata": {},
   "source": [
    "We use `VecDiff` to calculate the Vec/Vec derivative, so the Gradient of the Energy is:"
   ]
  },
  {
   "cell_type": "code",
   "execution_count": 7,
   "metadata": {},
   "outputs": [
    {
     "data": {
      "text/latex": [
       "$\\displaystyle \\left[\\begin{matrix}\\frac{k \\left(- L_{0} + \\sqrt{\\left(X(0) - X(3)\\right)^{2} + \\left(X(1) - X(4)\\right)^{2} + \\left(X(2) - X(5)\\right)^{2}}\\right) \\left(X(0) - X(3)\\right)}{\\sqrt{\\left(X(0) - X(3)\\right)^{2} + \\left(X(1) - X(4)\\right)^{2} + \\left(X(2) - X(5)\\right)^{2}}}\\\\\\frac{k \\left(- L_{0} + \\sqrt{\\left(X(0) - X(3)\\right)^{2} + \\left(X(1) - X(4)\\right)^{2} + \\left(X(2) - X(5)\\right)^{2}}\\right) \\left(X(1) - X(4)\\right)}{\\sqrt{\\left(X(0) - X(3)\\right)^{2} + \\left(X(1) - X(4)\\right)^{2} + \\left(X(2) - X(5)\\right)^{2}}}\\\\\\frac{k \\left(- L_{0} + \\sqrt{\\left(X(0) - X(3)\\right)^{2} + \\left(X(1) - X(4)\\right)^{2} + \\left(X(2) - X(5)\\right)^{2}}\\right) \\left(X(2) - X(5)\\right)}{\\sqrt{\\left(X(0) - X(3)\\right)^{2} + \\left(X(1) - X(4)\\right)^{2} + \\left(X(2) - X(5)\\right)^{2}}}\\\\\\frac{k \\left(- L_{0} + \\sqrt{\\left(X(0) - X(3)\\right)^{2} + \\left(X(1) - X(4)\\right)^{2} + \\left(X(2) - X(5)\\right)^{2}}\\right) \\left(- X(0) + X(3)\\right)}{\\sqrt{\\left(X(0) - X(3)\\right)^{2} + \\left(X(1) - X(4)\\right)^{2} + \\left(X(2) - X(5)\\right)^{2}}}\\\\\\frac{k \\left(- L_{0} + \\sqrt{\\left(X(0) - X(3)\\right)^{2} + \\left(X(1) - X(4)\\right)^{2} + \\left(X(2) - X(5)\\right)^{2}}\\right) \\left(- X(1) + X(4)\\right)}{\\sqrt{\\left(X(0) - X(3)\\right)^{2} + \\left(X(1) - X(4)\\right)^{2} + \\left(X(2) - X(5)\\right)^{2}}}\\\\\\frac{k \\left(- L_{0} + \\sqrt{\\left(X(0) - X(3)\\right)^{2} + \\left(X(1) - X(4)\\right)^{2} + \\left(X(2) - X(5)\\right)^{2}}\\right) \\left(- X(2) + X(5)\\right)}{\\sqrt{\\left(X(0) - X(3)\\right)^{2} + \\left(X(1) - X(4)\\right)^{2} + \\left(X(2) - X(5)\\right)^{2}}}\\end{matrix}\\right]$"
      ],
      "text/plain": [
       "Matrix([\n",
       "[ k*(-L0 + sqrt((X(0) - X(3))**2 + (X(1) - X(4))**2 + (X(2) - X(5))**2))*(X(0) - X(3))/sqrt((X(0) - X(3))**2 + (X(1) - X(4))**2 + (X(2) - X(5))**2)],\n",
       "[ k*(-L0 + sqrt((X(0) - X(3))**2 + (X(1) - X(4))**2 + (X(2) - X(5))**2))*(X(1) - X(4))/sqrt((X(0) - X(3))**2 + (X(1) - X(4))**2 + (X(2) - X(5))**2)],\n",
       "[ k*(-L0 + sqrt((X(0) - X(3))**2 + (X(1) - X(4))**2 + (X(2) - X(5))**2))*(X(2) - X(5))/sqrt((X(0) - X(3))**2 + (X(1) - X(4))**2 + (X(2) - X(5))**2)],\n",
       "[k*(-L0 + sqrt((X(0) - X(3))**2 + (X(1) - X(4))**2 + (X(2) - X(5))**2))*(-X(0) + X(3))/sqrt((X(0) - X(3))**2 + (X(1) - X(4))**2 + (X(2) - X(5))**2)],\n",
       "[k*(-L0 + sqrt((X(0) - X(3))**2 + (X(1) - X(4))**2 + (X(2) - X(5))**2))*(-X(1) + X(4))/sqrt((X(0) - X(3))**2 + (X(1) - X(4))**2 + (X(2) - X(5))**2)],\n",
       "[k*(-L0 + sqrt((X(0) - X(3))**2 + (X(1) - X(4))**2 + (X(2) - X(5))**2))*(-X(2) + X(5))/sqrt((X(0) - X(3))**2 + (X(1) - X(4))**2 + (X(2) - X(5))**2)]])"
      ]
     },
     "execution_count": 7,
     "metadata": {},
     "output_type": "execute_result"
    }
   ],
   "source": [
    "G = VecDiff(E, X)\n",
    "G"
   ]
  },
  {
   "cell_type": "markdown",
   "metadata": {},
   "source": [
    "So for the Hessian, we have:"
   ]
  },
  {
   "cell_type": "code",
   "execution_count": 8,
   "metadata": {},
   "outputs": [
    {
     "data": {
      "text/latex": [
       "$\\displaystyle \\left[\\begin{matrix}\\frac{k \\left(- L_{0} + \\sqrt{\\left(X(0) - X(3)\\right)^{2} + \\left(X(1) - X(4)\\right)^{2} + \\left(X(2) - X(5)\\right)^{2}}\\right) \\left(- X(0) + X(3)\\right) \\left(X(0) - X(3)\\right)}{\\left(\\left(X(0) - X(3)\\right)^{2} + \\left(X(1) - X(4)\\right)^{2} + \\left(X(2) - X(5)\\right)^{2}\\right)^{\\frac{3}{2}}} + \\frac{k \\left(- L_{0} + \\sqrt{\\left(X(0) - X(3)\\right)^{2} + \\left(X(1) - X(4)\\right)^{2} + \\left(X(2) - X(5)\\right)^{2}}\\right)}{\\sqrt{\\left(X(0) - X(3)\\right)^{2} + \\left(X(1) - X(4)\\right)^{2} + \\left(X(2) - X(5)\\right)^{2}}} + \\frac{k \\left(X(0) - X(3)\\right)^{2}}{\\left(X(0) - X(3)\\right)^{2} + \\left(X(1) - X(4)\\right)^{2} + \\left(X(2) - X(5)\\right)^{2}} & \\frac{k \\left(- L_{0} + \\sqrt{\\left(X(0) - X(3)\\right)^{2} + \\left(X(1) - X(4)\\right)^{2} + \\left(X(2) - X(5)\\right)^{2}}\\right) \\left(X(0) - X(3)\\right) \\left(- X(1) + X(4)\\right)}{\\left(\\left(X(0) - X(3)\\right)^{2} + \\left(X(1) - X(4)\\right)^{2} + \\left(X(2) - X(5)\\right)^{2}\\right)^{\\frac{3}{2}}} + \\frac{k \\left(X(0) - X(3)\\right) \\left(X(1) - X(4)\\right)}{\\left(X(0) - X(3)\\right)^{2} + \\left(X(1) - X(4)\\right)^{2} + \\left(X(2) - X(5)\\right)^{2}} & \\frac{k \\left(- L_{0} + \\sqrt{\\left(X(0) - X(3)\\right)^{2} + \\left(X(1) - X(4)\\right)^{2} + \\left(X(2) - X(5)\\right)^{2}}\\right) \\left(X(0) - X(3)\\right) \\left(- X(2) + X(5)\\right)}{\\left(\\left(X(0) - X(3)\\right)^{2} + \\left(X(1) - X(4)\\right)^{2} + \\left(X(2) - X(5)\\right)^{2}\\right)^{\\frac{3}{2}}} + \\frac{k \\left(X(0) - X(3)\\right) \\left(X(2) - X(5)\\right)}{\\left(X(0) - X(3)\\right)^{2} + \\left(X(1) - X(4)\\right)^{2} + \\left(X(2) - X(5)\\right)^{2}} & \\frac{k \\left(- L_{0} + \\sqrt{\\left(X(0) - X(3)\\right)^{2} + \\left(X(1) - X(4)\\right)^{2} + \\left(X(2) - X(5)\\right)^{2}}\\right) \\left(X(0) - X(3)\\right)^{2}}{\\left(\\left(X(0) - X(3)\\right)^{2} + \\left(X(1) - X(4)\\right)^{2} + \\left(X(2) - X(5)\\right)^{2}\\right)^{\\frac{3}{2}}} - \\frac{k \\left(- L_{0} + \\sqrt{\\left(X(0) - X(3)\\right)^{2} + \\left(X(1) - X(4)\\right)^{2} + \\left(X(2) - X(5)\\right)^{2}}\\right)}{\\sqrt{\\left(X(0) - X(3)\\right)^{2} + \\left(X(1) - X(4)\\right)^{2} + \\left(X(2) - X(5)\\right)^{2}}} + \\frac{k \\left(- X(0) + X(3)\\right) \\left(X(0) - X(3)\\right)}{\\left(X(0) - X(3)\\right)^{2} + \\left(X(1) - X(4)\\right)^{2} + \\left(X(2) - X(5)\\right)^{2}} & \\frac{k \\left(- L_{0} + \\sqrt{\\left(X(0) - X(3)\\right)^{2} + \\left(X(1) - X(4)\\right)^{2} + \\left(X(2) - X(5)\\right)^{2}}\\right) \\left(X(0) - X(3)\\right) \\left(X(1) - X(4)\\right)}{\\left(\\left(X(0) - X(3)\\right)^{2} + \\left(X(1) - X(4)\\right)^{2} + \\left(X(2) - X(5)\\right)^{2}\\right)^{\\frac{3}{2}}} + \\frac{k \\left(X(0) - X(3)\\right) \\left(- X(1) + X(4)\\right)}{\\left(X(0) - X(3)\\right)^{2} + \\left(X(1) - X(4)\\right)^{2} + \\left(X(2) - X(5)\\right)^{2}} & \\frac{k \\left(- L_{0} + \\sqrt{\\left(X(0) - X(3)\\right)^{2} + \\left(X(1) - X(4)\\right)^{2} + \\left(X(2) - X(5)\\right)^{2}}\\right) \\left(X(0) - X(3)\\right) \\left(X(2) - X(5)\\right)}{\\left(\\left(X(0) - X(3)\\right)^{2} + \\left(X(1) - X(4)\\right)^{2} + \\left(X(2) - X(5)\\right)^{2}\\right)^{\\frac{3}{2}}} + \\frac{k \\left(X(0) - X(3)\\right) \\left(- X(2) + X(5)\\right)}{\\left(X(0) - X(3)\\right)^{2} + \\left(X(1) - X(4)\\right)^{2} + \\left(X(2) - X(5)\\right)^{2}}\\\\\\frac{k \\left(- L_{0} + \\sqrt{\\left(X(0) - X(3)\\right)^{2} + \\left(X(1) - X(4)\\right)^{2} + \\left(X(2) - X(5)\\right)^{2}}\\right) \\left(- X(0) + X(3)\\right) \\left(X(1) - X(4)\\right)}{\\left(\\left(X(0) - X(3)\\right)^{2} + \\left(X(1) - X(4)\\right)^{2} + \\left(X(2) - X(5)\\right)^{2}\\right)^{\\frac{3}{2}}} + \\frac{k \\left(X(0) - X(3)\\right) \\left(X(1) - X(4)\\right)}{\\left(X(0) - X(3)\\right)^{2} + \\left(X(1) - X(4)\\right)^{2} + \\left(X(2) - X(5)\\right)^{2}} & \\frac{k \\left(- L_{0} + \\sqrt{\\left(X(0) - X(3)\\right)^{2} + \\left(X(1) - X(4)\\right)^{2} + \\left(X(2) - X(5)\\right)^{2}}\\right) \\left(- X(1) + X(4)\\right) \\left(X(1) - X(4)\\right)}{\\left(\\left(X(0) - X(3)\\right)^{2} + \\left(X(1) - X(4)\\right)^{2} + \\left(X(2) - X(5)\\right)^{2}\\right)^{\\frac{3}{2}}} + \\frac{k \\left(- L_{0} + \\sqrt{\\left(X(0) - X(3)\\right)^{2} + \\left(X(1) - X(4)\\right)^{2} + \\left(X(2) - X(5)\\right)^{2}}\\right)}{\\sqrt{\\left(X(0) - X(3)\\right)^{2} + \\left(X(1) - X(4)\\right)^{2} + \\left(X(2) - X(5)\\right)^{2}}} + \\frac{k \\left(X(1) - X(4)\\right)^{2}}{\\left(X(0) - X(3)\\right)^{2} + \\left(X(1) - X(4)\\right)^{2} + \\left(X(2) - X(5)\\right)^{2}} & \\frac{k \\left(- L_{0} + \\sqrt{\\left(X(0) - X(3)\\right)^{2} + \\left(X(1) - X(4)\\right)^{2} + \\left(X(2) - X(5)\\right)^{2}}\\right) \\left(X(1) - X(4)\\right) \\left(- X(2) + X(5)\\right)}{\\left(\\left(X(0) - X(3)\\right)^{2} + \\left(X(1) - X(4)\\right)^{2} + \\left(X(2) - X(5)\\right)^{2}\\right)^{\\frac{3}{2}}} + \\frac{k \\left(X(1) - X(4)\\right) \\left(X(2) - X(5)\\right)}{\\left(X(0) - X(3)\\right)^{2} + \\left(X(1) - X(4)\\right)^{2} + \\left(X(2) - X(5)\\right)^{2}} & \\frac{k \\left(- L_{0} + \\sqrt{\\left(X(0) - X(3)\\right)^{2} + \\left(X(1) - X(4)\\right)^{2} + \\left(X(2) - X(5)\\right)^{2}}\\right) \\left(X(0) - X(3)\\right) \\left(X(1) - X(4)\\right)}{\\left(\\left(X(0) - X(3)\\right)^{2} + \\left(X(1) - X(4)\\right)^{2} + \\left(X(2) - X(5)\\right)^{2}\\right)^{\\frac{3}{2}}} + \\frac{k \\left(- X(0) + X(3)\\right) \\left(X(1) - X(4)\\right)}{\\left(X(0) - X(3)\\right)^{2} + \\left(X(1) - X(4)\\right)^{2} + \\left(X(2) - X(5)\\right)^{2}} & \\frac{k \\left(- L_{0} + \\sqrt{\\left(X(0) - X(3)\\right)^{2} + \\left(X(1) - X(4)\\right)^{2} + \\left(X(2) - X(5)\\right)^{2}}\\right) \\left(X(1) - X(4)\\right)^{2}}{\\left(\\left(X(0) - X(3)\\right)^{2} + \\left(X(1) - X(4)\\right)^{2} + \\left(X(2) - X(5)\\right)^{2}\\right)^{\\frac{3}{2}}} - \\frac{k \\left(- L_{0} + \\sqrt{\\left(X(0) - X(3)\\right)^{2} + \\left(X(1) - X(4)\\right)^{2} + \\left(X(2) - X(5)\\right)^{2}}\\right)}{\\sqrt{\\left(X(0) - X(3)\\right)^{2} + \\left(X(1) - X(4)\\right)^{2} + \\left(X(2) - X(5)\\right)^{2}}} + \\frac{k \\left(- X(1) + X(4)\\right) \\left(X(1) - X(4)\\right)}{\\left(X(0) - X(3)\\right)^{2} + \\left(X(1) - X(4)\\right)^{2} + \\left(X(2) - X(5)\\right)^{2}} & \\frac{k \\left(- L_{0} + \\sqrt{\\left(X(0) - X(3)\\right)^{2} + \\left(X(1) - X(4)\\right)^{2} + \\left(X(2) - X(5)\\right)^{2}}\\right) \\left(X(1) - X(4)\\right) \\left(X(2) - X(5)\\right)}{\\left(\\left(X(0) - X(3)\\right)^{2} + \\left(X(1) - X(4)\\right)^{2} + \\left(X(2) - X(5)\\right)^{2}\\right)^{\\frac{3}{2}}} + \\frac{k \\left(X(1) - X(4)\\right) \\left(- X(2) + X(5)\\right)}{\\left(X(0) - X(3)\\right)^{2} + \\left(X(1) - X(4)\\right)^{2} + \\left(X(2) - X(5)\\right)^{2}}\\\\\\frac{k \\left(- L_{0} + \\sqrt{\\left(X(0) - X(3)\\right)^{2} + \\left(X(1) - X(4)\\right)^{2} + \\left(X(2) - X(5)\\right)^{2}}\\right) \\left(- X(0) + X(3)\\right) \\left(X(2) - X(5)\\right)}{\\left(\\left(X(0) - X(3)\\right)^{2} + \\left(X(1) - X(4)\\right)^{2} + \\left(X(2) - X(5)\\right)^{2}\\right)^{\\frac{3}{2}}} + \\frac{k \\left(X(0) - X(3)\\right) \\left(X(2) - X(5)\\right)}{\\left(X(0) - X(3)\\right)^{2} + \\left(X(1) - X(4)\\right)^{2} + \\left(X(2) - X(5)\\right)^{2}} & \\frac{k \\left(- L_{0} + \\sqrt{\\left(X(0) - X(3)\\right)^{2} + \\left(X(1) - X(4)\\right)^{2} + \\left(X(2) - X(5)\\right)^{2}}\\right) \\left(- X(1) + X(4)\\right) \\left(X(2) - X(5)\\right)}{\\left(\\left(X(0) - X(3)\\right)^{2} + \\left(X(1) - X(4)\\right)^{2} + \\left(X(2) - X(5)\\right)^{2}\\right)^{\\frac{3}{2}}} + \\frac{k \\left(X(1) - X(4)\\right) \\left(X(2) - X(5)\\right)}{\\left(X(0) - X(3)\\right)^{2} + \\left(X(1) - X(4)\\right)^{2} + \\left(X(2) - X(5)\\right)^{2}} & \\frac{k \\left(- L_{0} + \\sqrt{\\left(X(0) - X(3)\\right)^{2} + \\left(X(1) - X(4)\\right)^{2} + \\left(X(2) - X(5)\\right)^{2}}\\right) \\left(- X(2) + X(5)\\right) \\left(X(2) - X(5)\\right)}{\\left(\\left(X(0) - X(3)\\right)^{2} + \\left(X(1) - X(4)\\right)^{2} + \\left(X(2) - X(5)\\right)^{2}\\right)^{\\frac{3}{2}}} + \\frac{k \\left(- L_{0} + \\sqrt{\\left(X(0) - X(3)\\right)^{2} + \\left(X(1) - X(4)\\right)^{2} + \\left(X(2) - X(5)\\right)^{2}}\\right)}{\\sqrt{\\left(X(0) - X(3)\\right)^{2} + \\left(X(1) - X(4)\\right)^{2} + \\left(X(2) - X(5)\\right)^{2}}} + \\frac{k \\left(X(2) - X(5)\\right)^{2}}{\\left(X(0) - X(3)\\right)^{2} + \\left(X(1) - X(4)\\right)^{2} + \\left(X(2) - X(5)\\right)^{2}} & \\frac{k \\left(- L_{0} + \\sqrt{\\left(X(0) - X(3)\\right)^{2} + \\left(X(1) - X(4)\\right)^{2} + \\left(X(2) - X(5)\\right)^{2}}\\right) \\left(X(0) - X(3)\\right) \\left(X(2) - X(5)\\right)}{\\left(\\left(X(0) - X(3)\\right)^{2} + \\left(X(1) - X(4)\\right)^{2} + \\left(X(2) - X(5)\\right)^{2}\\right)^{\\frac{3}{2}}} + \\frac{k \\left(- X(0) + X(3)\\right) \\left(X(2) - X(5)\\right)}{\\left(X(0) - X(3)\\right)^{2} + \\left(X(1) - X(4)\\right)^{2} + \\left(X(2) - X(5)\\right)^{2}} & \\frac{k \\left(- L_{0} + \\sqrt{\\left(X(0) - X(3)\\right)^{2} + \\left(X(1) - X(4)\\right)^{2} + \\left(X(2) - X(5)\\right)^{2}}\\right) \\left(X(1) - X(4)\\right) \\left(X(2) - X(5)\\right)}{\\left(\\left(X(0) - X(3)\\right)^{2} + \\left(X(1) - X(4)\\right)^{2} + \\left(X(2) - X(5)\\right)^{2}\\right)^{\\frac{3}{2}}} + \\frac{k \\left(- X(1) + X(4)\\right) \\left(X(2) - X(5)\\right)}{\\left(X(0) - X(3)\\right)^{2} + \\left(X(1) - X(4)\\right)^{2} + \\left(X(2) - X(5)\\right)^{2}} & \\frac{k \\left(- L_{0} + \\sqrt{\\left(X(0) - X(3)\\right)^{2} + \\left(X(1) - X(4)\\right)^{2} + \\left(X(2) - X(5)\\right)^{2}}\\right) \\left(X(2) - X(5)\\right)^{2}}{\\left(\\left(X(0) - X(3)\\right)^{2} + \\left(X(1) - X(4)\\right)^{2} + \\left(X(2) - X(5)\\right)^{2}\\right)^{\\frac{3}{2}}} - \\frac{k \\left(- L_{0} + \\sqrt{\\left(X(0) - X(3)\\right)^{2} + \\left(X(1) - X(4)\\right)^{2} + \\left(X(2) - X(5)\\right)^{2}}\\right)}{\\sqrt{\\left(X(0) - X(3)\\right)^{2} + \\left(X(1) - X(4)\\right)^{2} + \\left(X(2) - X(5)\\right)^{2}}} + \\frac{k \\left(- X(2) + X(5)\\right) \\left(X(2) - X(5)\\right)}{\\left(X(0) - X(3)\\right)^{2} + \\left(X(1) - X(4)\\right)^{2} + \\left(X(2) - X(5)\\right)^{2}}\\\\\\frac{k \\left(- L_{0} + \\sqrt{\\left(X(0) - X(3)\\right)^{2} + \\left(X(1) - X(4)\\right)^{2} + \\left(X(2) - X(5)\\right)^{2}}\\right) \\left(- X(0) + X(3)\\right)^{2}}{\\left(\\left(X(0) - X(3)\\right)^{2} + \\left(X(1) - X(4)\\right)^{2} + \\left(X(2) - X(5)\\right)^{2}\\right)^{\\frac{3}{2}}} - \\frac{k \\left(- L_{0} + \\sqrt{\\left(X(0) - X(3)\\right)^{2} + \\left(X(1) - X(4)\\right)^{2} + \\left(X(2) - X(5)\\right)^{2}}\\right)}{\\sqrt{\\left(X(0) - X(3)\\right)^{2} + \\left(X(1) - X(4)\\right)^{2} + \\left(X(2) - X(5)\\right)^{2}}} + \\frac{k \\left(- X(0) + X(3)\\right) \\left(X(0) - X(3)\\right)}{\\left(X(0) - X(3)\\right)^{2} + \\left(X(1) - X(4)\\right)^{2} + \\left(X(2) - X(5)\\right)^{2}} & \\frac{k \\left(- L_{0} + \\sqrt{\\left(X(0) - X(3)\\right)^{2} + \\left(X(1) - X(4)\\right)^{2} + \\left(X(2) - X(5)\\right)^{2}}\\right) \\left(- X(0) + X(3)\\right) \\left(- X(1) + X(4)\\right)}{\\left(\\left(X(0) - X(3)\\right)^{2} + \\left(X(1) - X(4)\\right)^{2} + \\left(X(2) - X(5)\\right)^{2}\\right)^{\\frac{3}{2}}} + \\frac{k \\left(- X(0) + X(3)\\right) \\left(X(1) - X(4)\\right)}{\\left(X(0) - X(3)\\right)^{2} + \\left(X(1) - X(4)\\right)^{2} + \\left(X(2) - X(5)\\right)^{2}} & \\frac{k \\left(- L_{0} + \\sqrt{\\left(X(0) - X(3)\\right)^{2} + \\left(X(1) - X(4)\\right)^{2} + \\left(X(2) - X(5)\\right)^{2}}\\right) \\left(- X(0) + X(3)\\right) \\left(- X(2) + X(5)\\right)}{\\left(\\left(X(0) - X(3)\\right)^{2} + \\left(X(1) - X(4)\\right)^{2} + \\left(X(2) - X(5)\\right)^{2}\\right)^{\\frac{3}{2}}} + \\frac{k \\left(- X(0) + X(3)\\right) \\left(X(2) - X(5)\\right)}{\\left(X(0) - X(3)\\right)^{2} + \\left(X(1) - X(4)\\right)^{2} + \\left(X(2) - X(5)\\right)^{2}} & \\frac{k \\left(- L_{0} + \\sqrt{\\left(X(0) - X(3)\\right)^{2} + \\left(X(1) - X(4)\\right)^{2} + \\left(X(2) - X(5)\\right)^{2}}\\right) \\left(- X(0) + X(3)\\right) \\left(X(0) - X(3)\\right)}{\\left(\\left(X(0) - X(3)\\right)^{2} + \\left(X(1) - X(4)\\right)^{2} + \\left(X(2) - X(5)\\right)^{2}\\right)^{\\frac{3}{2}}} + \\frac{k \\left(- L_{0} + \\sqrt{\\left(X(0) - X(3)\\right)^{2} + \\left(X(1) - X(4)\\right)^{2} + \\left(X(2) - X(5)\\right)^{2}}\\right)}{\\sqrt{\\left(X(0) - X(3)\\right)^{2} + \\left(X(1) - X(4)\\right)^{2} + \\left(X(2) - X(5)\\right)^{2}}} + \\frac{k \\left(- X(0) + X(3)\\right)^{2}}{\\left(X(0) - X(3)\\right)^{2} + \\left(X(1) - X(4)\\right)^{2} + \\left(X(2) - X(5)\\right)^{2}} & \\frac{k \\left(- L_{0} + \\sqrt{\\left(X(0) - X(3)\\right)^{2} + \\left(X(1) - X(4)\\right)^{2} + \\left(X(2) - X(5)\\right)^{2}}\\right) \\left(- X(0) + X(3)\\right) \\left(X(1) - X(4)\\right)}{\\left(\\left(X(0) - X(3)\\right)^{2} + \\left(X(1) - X(4)\\right)^{2} + \\left(X(2) - X(5)\\right)^{2}\\right)^{\\frac{3}{2}}} + \\frac{k \\left(- X(0) + X(3)\\right) \\left(- X(1) + X(4)\\right)}{\\left(X(0) - X(3)\\right)^{2} + \\left(X(1) - X(4)\\right)^{2} + \\left(X(2) - X(5)\\right)^{2}} & \\frac{k \\left(- L_{0} + \\sqrt{\\left(X(0) - X(3)\\right)^{2} + \\left(X(1) - X(4)\\right)^{2} + \\left(X(2) - X(5)\\right)^{2}}\\right) \\left(- X(0) + X(3)\\right) \\left(X(2) - X(5)\\right)}{\\left(\\left(X(0) - X(3)\\right)^{2} + \\left(X(1) - X(4)\\right)^{2} + \\left(X(2) - X(5)\\right)^{2}\\right)^{\\frac{3}{2}}} + \\frac{k \\left(- X(0) + X(3)\\right) \\left(- X(2) + X(5)\\right)}{\\left(X(0) - X(3)\\right)^{2} + \\left(X(1) - X(4)\\right)^{2} + \\left(X(2) - X(5)\\right)^{2}}\\\\\\frac{k \\left(- L_{0} + \\sqrt{\\left(X(0) - X(3)\\right)^{2} + \\left(X(1) - X(4)\\right)^{2} + \\left(X(2) - X(5)\\right)^{2}}\\right) \\left(- X(0) + X(3)\\right) \\left(- X(1) + X(4)\\right)}{\\left(\\left(X(0) - X(3)\\right)^{2} + \\left(X(1) - X(4)\\right)^{2} + \\left(X(2) - X(5)\\right)^{2}\\right)^{\\frac{3}{2}}} + \\frac{k \\left(X(0) - X(3)\\right) \\left(- X(1) + X(4)\\right)}{\\left(X(0) - X(3)\\right)^{2} + \\left(X(1) - X(4)\\right)^{2} + \\left(X(2) - X(5)\\right)^{2}} & \\frac{k \\left(- L_{0} + \\sqrt{\\left(X(0) - X(3)\\right)^{2} + \\left(X(1) - X(4)\\right)^{2} + \\left(X(2) - X(5)\\right)^{2}}\\right) \\left(- X(1) + X(4)\\right)^{2}}{\\left(\\left(X(0) - X(3)\\right)^{2} + \\left(X(1) - X(4)\\right)^{2} + \\left(X(2) - X(5)\\right)^{2}\\right)^{\\frac{3}{2}}} - \\frac{k \\left(- L_{0} + \\sqrt{\\left(X(0) - X(3)\\right)^{2} + \\left(X(1) - X(4)\\right)^{2} + \\left(X(2) - X(5)\\right)^{2}}\\right)}{\\sqrt{\\left(X(0) - X(3)\\right)^{2} + \\left(X(1) - X(4)\\right)^{2} + \\left(X(2) - X(5)\\right)^{2}}} + \\frac{k \\left(- X(1) + X(4)\\right) \\left(X(1) - X(4)\\right)}{\\left(X(0) - X(3)\\right)^{2} + \\left(X(1) - X(4)\\right)^{2} + \\left(X(2) - X(5)\\right)^{2}} & \\frac{k \\left(- L_{0} + \\sqrt{\\left(X(0) - X(3)\\right)^{2} + \\left(X(1) - X(4)\\right)^{2} + \\left(X(2) - X(5)\\right)^{2}}\\right) \\left(- X(1) + X(4)\\right) \\left(- X(2) + X(5)\\right)}{\\left(\\left(X(0) - X(3)\\right)^{2} + \\left(X(1) - X(4)\\right)^{2} + \\left(X(2) - X(5)\\right)^{2}\\right)^{\\frac{3}{2}}} + \\frac{k \\left(- X(1) + X(4)\\right) \\left(X(2) - X(5)\\right)}{\\left(X(0) - X(3)\\right)^{2} + \\left(X(1) - X(4)\\right)^{2} + \\left(X(2) - X(5)\\right)^{2}} & \\frac{k \\left(- L_{0} + \\sqrt{\\left(X(0) - X(3)\\right)^{2} + \\left(X(1) - X(4)\\right)^{2} + \\left(X(2) - X(5)\\right)^{2}}\\right) \\left(X(0) - X(3)\\right) \\left(- X(1) + X(4)\\right)}{\\left(\\left(X(0) - X(3)\\right)^{2} + \\left(X(1) - X(4)\\right)^{2} + \\left(X(2) - X(5)\\right)^{2}\\right)^{\\frac{3}{2}}} + \\frac{k \\left(- X(0) + X(3)\\right) \\left(- X(1) + X(4)\\right)}{\\left(X(0) - X(3)\\right)^{2} + \\left(X(1) - X(4)\\right)^{2} + \\left(X(2) - X(5)\\right)^{2}} & \\frac{k \\left(- L_{0} + \\sqrt{\\left(X(0) - X(3)\\right)^{2} + \\left(X(1) - X(4)\\right)^{2} + \\left(X(2) - X(5)\\right)^{2}}\\right) \\left(- X(1) + X(4)\\right) \\left(X(1) - X(4)\\right)}{\\left(\\left(X(0) - X(3)\\right)^{2} + \\left(X(1) - X(4)\\right)^{2} + \\left(X(2) - X(5)\\right)^{2}\\right)^{\\frac{3}{2}}} + \\frac{k \\left(- L_{0} + \\sqrt{\\left(X(0) - X(3)\\right)^{2} + \\left(X(1) - X(4)\\right)^{2} + \\left(X(2) - X(5)\\right)^{2}}\\right)}{\\sqrt{\\left(X(0) - X(3)\\right)^{2} + \\left(X(1) - X(4)\\right)^{2} + \\left(X(2) - X(5)\\right)^{2}}} + \\frac{k \\left(- X(1) + X(4)\\right)^{2}}{\\left(X(0) - X(3)\\right)^{2} + \\left(X(1) - X(4)\\right)^{2} + \\left(X(2) - X(5)\\right)^{2}} & \\frac{k \\left(- L_{0} + \\sqrt{\\left(X(0) - X(3)\\right)^{2} + \\left(X(1) - X(4)\\right)^{2} + \\left(X(2) - X(5)\\right)^{2}}\\right) \\left(- X(1) + X(4)\\right) \\left(X(2) - X(5)\\right)}{\\left(\\left(X(0) - X(3)\\right)^{2} + \\left(X(1) - X(4)\\right)^{2} + \\left(X(2) - X(5)\\right)^{2}\\right)^{\\frac{3}{2}}} + \\frac{k \\left(- X(1) + X(4)\\right) \\left(- X(2) + X(5)\\right)}{\\left(X(0) - X(3)\\right)^{2} + \\left(X(1) - X(4)\\right)^{2} + \\left(X(2) - X(5)\\right)^{2}}\\\\\\frac{k \\left(- L_{0} + \\sqrt{\\left(X(0) - X(3)\\right)^{2} + \\left(X(1) - X(4)\\right)^{2} + \\left(X(2) - X(5)\\right)^{2}}\\right) \\left(- X(0) + X(3)\\right) \\left(- X(2) + X(5)\\right)}{\\left(\\left(X(0) - X(3)\\right)^{2} + \\left(X(1) - X(4)\\right)^{2} + \\left(X(2) - X(5)\\right)^{2}\\right)^{\\frac{3}{2}}} + \\frac{k \\left(X(0) - X(3)\\right) \\left(- X(2) + X(5)\\right)}{\\left(X(0) - X(3)\\right)^{2} + \\left(X(1) - X(4)\\right)^{2} + \\left(X(2) - X(5)\\right)^{2}} & \\frac{k \\left(- L_{0} + \\sqrt{\\left(X(0) - X(3)\\right)^{2} + \\left(X(1) - X(4)\\right)^{2} + \\left(X(2) - X(5)\\right)^{2}}\\right) \\left(- X(1) + X(4)\\right) \\left(- X(2) + X(5)\\right)}{\\left(\\left(X(0) - X(3)\\right)^{2} + \\left(X(1) - X(4)\\right)^{2} + \\left(X(2) - X(5)\\right)^{2}\\right)^{\\frac{3}{2}}} + \\frac{k \\left(X(1) - X(4)\\right) \\left(- X(2) + X(5)\\right)}{\\left(X(0) - X(3)\\right)^{2} + \\left(X(1) - X(4)\\right)^{2} + \\left(X(2) - X(5)\\right)^{2}} & \\frac{k \\left(- L_{0} + \\sqrt{\\left(X(0) - X(3)\\right)^{2} + \\left(X(1) - X(4)\\right)^{2} + \\left(X(2) - X(5)\\right)^{2}}\\right) \\left(- X(2) + X(5)\\right)^{2}}{\\left(\\left(X(0) - X(3)\\right)^{2} + \\left(X(1) - X(4)\\right)^{2} + \\left(X(2) - X(5)\\right)^{2}\\right)^{\\frac{3}{2}}} - \\frac{k \\left(- L_{0} + \\sqrt{\\left(X(0) - X(3)\\right)^{2} + \\left(X(1) - X(4)\\right)^{2} + \\left(X(2) - X(5)\\right)^{2}}\\right)}{\\sqrt{\\left(X(0) - X(3)\\right)^{2} + \\left(X(1) - X(4)\\right)^{2} + \\left(X(2) - X(5)\\right)^{2}}} + \\frac{k \\left(- X(2) + X(5)\\right) \\left(X(2) - X(5)\\right)}{\\left(X(0) - X(3)\\right)^{2} + \\left(X(1) - X(4)\\right)^{2} + \\left(X(2) - X(5)\\right)^{2}} & \\frac{k \\left(- L_{0} + \\sqrt{\\left(X(0) - X(3)\\right)^{2} + \\left(X(1) - X(4)\\right)^{2} + \\left(X(2) - X(5)\\right)^{2}}\\right) \\left(X(0) - X(3)\\right) \\left(- X(2) + X(5)\\right)}{\\left(\\left(X(0) - X(3)\\right)^{2} + \\left(X(1) - X(4)\\right)^{2} + \\left(X(2) - X(5)\\right)^{2}\\right)^{\\frac{3}{2}}} + \\frac{k \\left(- X(0) + X(3)\\right) \\left(- X(2) + X(5)\\right)}{\\left(X(0) - X(3)\\right)^{2} + \\left(X(1) - X(4)\\right)^{2} + \\left(X(2) - X(5)\\right)^{2}} & \\frac{k \\left(- L_{0} + \\sqrt{\\left(X(0) - X(3)\\right)^{2} + \\left(X(1) - X(4)\\right)^{2} + \\left(X(2) - X(5)\\right)^{2}}\\right) \\left(X(1) - X(4)\\right) \\left(- X(2) + X(5)\\right)}{\\left(\\left(X(0) - X(3)\\right)^{2} + \\left(X(1) - X(4)\\right)^{2} + \\left(X(2) - X(5)\\right)^{2}\\right)^{\\frac{3}{2}}} + \\frac{k \\left(- X(1) + X(4)\\right) \\left(- X(2) + X(5)\\right)}{\\left(X(0) - X(3)\\right)^{2} + \\left(X(1) - X(4)\\right)^{2} + \\left(X(2) - X(5)\\right)^{2}} & \\frac{k \\left(- L_{0} + \\sqrt{\\left(X(0) - X(3)\\right)^{2} + \\left(X(1) - X(4)\\right)^{2} + \\left(X(2) - X(5)\\right)^{2}}\\right) \\left(- X(2) + X(5)\\right) \\left(X(2) - X(5)\\right)}{\\left(\\left(X(0) - X(3)\\right)^{2} + \\left(X(1) - X(4)\\right)^{2} + \\left(X(2) - X(5)\\right)^{2}\\right)^{\\frac{3}{2}}} + \\frac{k \\left(- L_{0} + \\sqrt{\\left(X(0) - X(3)\\right)^{2} + \\left(X(1) - X(4)\\right)^{2} + \\left(X(2) - X(5)\\right)^{2}}\\right)}{\\sqrt{\\left(X(0) - X(3)\\right)^{2} + \\left(X(1) - X(4)\\right)^{2} + \\left(X(2) - X(5)\\right)^{2}}} + \\frac{k \\left(- X(2) + X(5)\\right)^{2}}{\\left(X(0) - X(3)\\right)^{2} + \\left(X(1) - X(4)\\right)^{2} + \\left(X(2) - X(5)\\right)^{2}}\\end{matrix}\\right]$"
      ],
      "text/plain": [
       "Matrix([\n",
       "[ k*(-L0 + sqrt((X(0) - X(3))**2 + (X(1) - X(4))**2 + (X(2) - X(5))**2))*(-X(0) + X(3))*(X(0) - X(3))/((X(0) - X(3))**2 + (X(1) - X(4))**2 + (X(2) - X(5))**2)**(3/2) + k*(-L0 + sqrt((X(0) - X(3))**2 + (X(1) - X(4))**2 + (X(2) - X(5))**2))/sqrt((X(0) - X(3))**2 + (X(1) - X(4))**2 + (X(2) - X(5))**2) + k*(X(0) - X(3))**2/((X(0) - X(3))**2 + (X(1) - X(4))**2 + (X(2) - X(5))**2),                                                                                                                             k*(-L0 + sqrt((X(0) - X(3))**2 + (X(1) - X(4))**2 + (X(2) - X(5))**2))*(X(0) - X(3))*(-X(1) + X(4))/((X(0) - X(3))**2 + (X(1) - X(4))**2 + (X(2) - X(5))**2)**(3/2) + k*(X(0) - X(3))*(X(1) - X(4))/((X(0) - X(3))**2 + (X(1) - X(4))**2 + (X(2) - X(5))**2),                                                                                                                             k*(-L0 + sqrt((X(0) - X(3))**2 + (X(1) - X(4))**2 + (X(2) - X(5))**2))*(X(0) - X(3))*(-X(2) + X(5))/((X(0) - X(3))**2 + (X(1) - X(4))**2 + (X(2) - X(5))**2)**(3/2) + k*(X(0) - X(3))*(X(2) - X(5))/((X(0) - X(3))**2 + (X(1) - X(4))**2 + (X(2) - X(5))**2),  k*(-L0 + sqrt((X(0) - X(3))**2 + (X(1) - X(4))**2 + (X(2) - X(5))**2))*(X(0) - X(3))**2/((X(0) - X(3))**2 + (X(1) - X(4))**2 + (X(2) - X(5))**2)**(3/2) - k*(-L0 + sqrt((X(0) - X(3))**2 + (X(1) - X(4))**2 + (X(2) - X(5))**2))/sqrt((X(0) - X(3))**2 + (X(1) - X(4))**2 + (X(2) - X(5))**2) + k*(-X(0) + X(3))*(X(0) - X(3))/((X(0) - X(3))**2 + (X(1) - X(4))**2 + (X(2) - X(5))**2),                                                                                                                             k*(-L0 + sqrt((X(0) - X(3))**2 + (X(1) - X(4))**2 + (X(2) - X(5))**2))*(X(0) - X(3))*(X(1) - X(4))/((X(0) - X(3))**2 + (X(1) - X(4))**2 + (X(2) - X(5))**2)**(3/2) + k*(X(0) - X(3))*(-X(1) + X(4))/((X(0) - X(3))**2 + (X(1) - X(4))**2 + (X(2) - X(5))**2),                                                                                                                             k*(-L0 + sqrt((X(0) - X(3))**2 + (X(1) - X(4))**2 + (X(2) - X(5))**2))*(X(0) - X(3))*(X(2) - X(5))/((X(0) - X(3))**2 + (X(1) - X(4))**2 + (X(2) - X(5))**2)**(3/2) + k*(X(0) - X(3))*(-X(2) + X(5))/((X(0) - X(3))**2 + (X(1) - X(4))**2 + (X(2) - X(5))**2)],\n",
       "[                                                                                                                            k*(-L0 + sqrt((X(0) - X(3))**2 + (X(1) - X(4))**2 + (X(2) - X(5))**2))*(-X(0) + X(3))*(X(1) - X(4))/((X(0) - X(3))**2 + (X(1) - X(4))**2 + (X(2) - X(5))**2)**(3/2) + k*(X(0) - X(3))*(X(1) - X(4))/((X(0) - X(3))**2 + (X(1) - X(4))**2 + (X(2) - X(5))**2),  k*(-L0 + sqrt((X(0) - X(3))**2 + (X(1) - X(4))**2 + (X(2) - X(5))**2))*(-X(1) + X(4))*(X(1) - X(4))/((X(0) - X(3))**2 + (X(1) - X(4))**2 + (X(2) - X(5))**2)**(3/2) + k*(-L0 + sqrt((X(0) - X(3))**2 + (X(1) - X(4))**2 + (X(2) - X(5))**2))/sqrt((X(0) - X(3))**2 + (X(1) - X(4))**2 + (X(2) - X(5))**2) + k*(X(1) - X(4))**2/((X(0) - X(3))**2 + (X(1) - X(4))**2 + (X(2) - X(5))**2),                                                                                                                             k*(-L0 + sqrt((X(0) - X(3))**2 + (X(1) - X(4))**2 + (X(2) - X(5))**2))*(X(1) - X(4))*(-X(2) + X(5))/((X(0) - X(3))**2 + (X(1) - X(4))**2 + (X(2) - X(5))**2)**(3/2) + k*(X(1) - X(4))*(X(2) - X(5))/((X(0) - X(3))**2 + (X(1) - X(4))**2 + (X(2) - X(5))**2),                                                                                                                             k*(-L0 + sqrt((X(0) - X(3))**2 + (X(1) - X(4))**2 + (X(2) - X(5))**2))*(X(0) - X(3))*(X(1) - X(4))/((X(0) - X(3))**2 + (X(1) - X(4))**2 + (X(2) - X(5))**2)**(3/2) + k*(-X(0) + X(3))*(X(1) - X(4))/((X(0) - X(3))**2 + (X(1) - X(4))**2 + (X(2) - X(5))**2),  k*(-L0 + sqrt((X(0) - X(3))**2 + (X(1) - X(4))**2 + (X(2) - X(5))**2))*(X(1) - X(4))**2/((X(0) - X(3))**2 + (X(1) - X(4))**2 + (X(2) - X(5))**2)**(3/2) - k*(-L0 + sqrt((X(0) - X(3))**2 + (X(1) - X(4))**2 + (X(2) - X(5))**2))/sqrt((X(0) - X(3))**2 + (X(1) - X(4))**2 + (X(2) - X(5))**2) + k*(-X(1) + X(4))*(X(1) - X(4))/((X(0) - X(3))**2 + (X(1) - X(4))**2 + (X(2) - X(5))**2),                                                                                                                             k*(-L0 + sqrt((X(0) - X(3))**2 + (X(1) - X(4))**2 + (X(2) - X(5))**2))*(X(1) - X(4))*(X(2) - X(5))/((X(0) - X(3))**2 + (X(1) - X(4))**2 + (X(2) - X(5))**2)**(3/2) + k*(X(1) - X(4))*(-X(2) + X(5))/((X(0) - X(3))**2 + (X(1) - X(4))**2 + (X(2) - X(5))**2)],\n",
       "[                                                                                                                            k*(-L0 + sqrt((X(0) - X(3))**2 + (X(1) - X(4))**2 + (X(2) - X(5))**2))*(-X(0) + X(3))*(X(2) - X(5))/((X(0) - X(3))**2 + (X(1) - X(4))**2 + (X(2) - X(5))**2)**(3/2) + k*(X(0) - X(3))*(X(2) - X(5))/((X(0) - X(3))**2 + (X(1) - X(4))**2 + (X(2) - X(5))**2),                                                                                                                             k*(-L0 + sqrt((X(0) - X(3))**2 + (X(1) - X(4))**2 + (X(2) - X(5))**2))*(-X(1) + X(4))*(X(2) - X(5))/((X(0) - X(3))**2 + (X(1) - X(4))**2 + (X(2) - X(5))**2)**(3/2) + k*(X(1) - X(4))*(X(2) - X(5))/((X(0) - X(3))**2 + (X(1) - X(4))**2 + (X(2) - X(5))**2),  k*(-L0 + sqrt((X(0) - X(3))**2 + (X(1) - X(4))**2 + (X(2) - X(5))**2))*(-X(2) + X(5))*(X(2) - X(5))/((X(0) - X(3))**2 + (X(1) - X(4))**2 + (X(2) - X(5))**2)**(3/2) + k*(-L0 + sqrt((X(0) - X(3))**2 + (X(1) - X(4))**2 + (X(2) - X(5))**2))/sqrt((X(0) - X(3))**2 + (X(1) - X(4))**2 + (X(2) - X(5))**2) + k*(X(2) - X(5))**2/((X(0) - X(3))**2 + (X(1) - X(4))**2 + (X(2) - X(5))**2),                                                                                                                             k*(-L0 + sqrt((X(0) - X(3))**2 + (X(1) - X(4))**2 + (X(2) - X(5))**2))*(X(0) - X(3))*(X(2) - X(5))/((X(0) - X(3))**2 + (X(1) - X(4))**2 + (X(2) - X(5))**2)**(3/2) + k*(-X(0) + X(3))*(X(2) - X(5))/((X(0) - X(3))**2 + (X(1) - X(4))**2 + (X(2) - X(5))**2),                                                                                                                             k*(-L0 + sqrt((X(0) - X(3))**2 + (X(1) - X(4))**2 + (X(2) - X(5))**2))*(X(1) - X(4))*(X(2) - X(5))/((X(0) - X(3))**2 + (X(1) - X(4))**2 + (X(2) - X(5))**2)**(3/2) + k*(-X(1) + X(4))*(X(2) - X(5))/((X(0) - X(3))**2 + (X(1) - X(4))**2 + (X(2) - X(5))**2),  k*(-L0 + sqrt((X(0) - X(3))**2 + (X(1) - X(4))**2 + (X(2) - X(5))**2))*(X(2) - X(5))**2/((X(0) - X(3))**2 + (X(1) - X(4))**2 + (X(2) - X(5))**2)**(3/2) - k*(-L0 + sqrt((X(0) - X(3))**2 + (X(1) - X(4))**2 + (X(2) - X(5))**2))/sqrt((X(0) - X(3))**2 + (X(1) - X(4))**2 + (X(2) - X(5))**2) + k*(-X(2) + X(5))*(X(2) - X(5))/((X(0) - X(3))**2 + (X(1) - X(4))**2 + (X(2) - X(5))**2)],\n",
       "[k*(-L0 + sqrt((X(0) - X(3))**2 + (X(1) - X(4))**2 + (X(2) - X(5))**2))*(-X(0) + X(3))**2/((X(0) - X(3))**2 + (X(1) - X(4))**2 + (X(2) - X(5))**2)**(3/2) - k*(-L0 + sqrt((X(0) - X(3))**2 + (X(1) - X(4))**2 + (X(2) - X(5))**2))/sqrt((X(0) - X(3))**2 + (X(1) - X(4))**2 + (X(2) - X(5))**2) + k*(-X(0) + X(3))*(X(0) - X(3))/((X(0) - X(3))**2 + (X(1) - X(4))**2 + (X(2) - X(5))**2),                                                                                                                           k*(-L0 + sqrt((X(0) - X(3))**2 + (X(1) - X(4))**2 + (X(2) - X(5))**2))*(-X(0) + X(3))*(-X(1) + X(4))/((X(0) - X(3))**2 + (X(1) - X(4))**2 + (X(2) - X(5))**2)**(3/2) + k*(-X(0) + X(3))*(X(1) - X(4))/((X(0) - X(3))**2 + (X(1) - X(4))**2 + (X(2) - X(5))**2),                                                                                                                           k*(-L0 + sqrt((X(0) - X(3))**2 + (X(1) - X(4))**2 + (X(2) - X(5))**2))*(-X(0) + X(3))*(-X(2) + X(5))/((X(0) - X(3))**2 + (X(1) - X(4))**2 + (X(2) - X(5))**2)**(3/2) + k*(-X(0) + X(3))*(X(2) - X(5))/((X(0) - X(3))**2 + (X(1) - X(4))**2 + (X(2) - X(5))**2), k*(-L0 + sqrt((X(0) - X(3))**2 + (X(1) - X(4))**2 + (X(2) - X(5))**2))*(-X(0) + X(3))*(X(0) - X(3))/((X(0) - X(3))**2 + (X(1) - X(4))**2 + (X(2) - X(5))**2)**(3/2) + k*(-L0 + sqrt((X(0) - X(3))**2 + (X(1) - X(4))**2 + (X(2) - X(5))**2))/sqrt((X(0) - X(3))**2 + (X(1) - X(4))**2 + (X(2) - X(5))**2) + k*(-X(0) + X(3))**2/((X(0) - X(3))**2 + (X(1) - X(4))**2 + (X(2) - X(5))**2),                                                                                                                           k*(-L0 + sqrt((X(0) - X(3))**2 + (X(1) - X(4))**2 + (X(2) - X(5))**2))*(-X(0) + X(3))*(X(1) - X(4))/((X(0) - X(3))**2 + (X(1) - X(4))**2 + (X(2) - X(5))**2)**(3/2) + k*(-X(0) + X(3))*(-X(1) + X(4))/((X(0) - X(3))**2 + (X(1) - X(4))**2 + (X(2) - X(5))**2),                                                                                                                           k*(-L0 + sqrt((X(0) - X(3))**2 + (X(1) - X(4))**2 + (X(2) - X(5))**2))*(-X(0) + X(3))*(X(2) - X(5))/((X(0) - X(3))**2 + (X(1) - X(4))**2 + (X(2) - X(5))**2)**(3/2) + k*(-X(0) + X(3))*(-X(2) + X(5))/((X(0) - X(3))**2 + (X(1) - X(4))**2 + (X(2) - X(5))**2)],\n",
       "[                                                                                                                          k*(-L0 + sqrt((X(0) - X(3))**2 + (X(1) - X(4))**2 + (X(2) - X(5))**2))*(-X(0) + X(3))*(-X(1) + X(4))/((X(0) - X(3))**2 + (X(1) - X(4))**2 + (X(2) - X(5))**2)**(3/2) + k*(X(0) - X(3))*(-X(1) + X(4))/((X(0) - X(3))**2 + (X(1) - X(4))**2 + (X(2) - X(5))**2), k*(-L0 + sqrt((X(0) - X(3))**2 + (X(1) - X(4))**2 + (X(2) - X(5))**2))*(-X(1) + X(4))**2/((X(0) - X(3))**2 + (X(1) - X(4))**2 + (X(2) - X(5))**2)**(3/2) - k*(-L0 + sqrt((X(0) - X(3))**2 + (X(1) - X(4))**2 + (X(2) - X(5))**2))/sqrt((X(0) - X(3))**2 + (X(1) - X(4))**2 + (X(2) - X(5))**2) + k*(-X(1) + X(4))*(X(1) - X(4))/((X(0) - X(3))**2 + (X(1) - X(4))**2 + (X(2) - X(5))**2),                                                                                                                           k*(-L0 + sqrt((X(0) - X(3))**2 + (X(1) - X(4))**2 + (X(2) - X(5))**2))*(-X(1) + X(4))*(-X(2) + X(5))/((X(0) - X(3))**2 + (X(1) - X(4))**2 + (X(2) - X(5))**2)**(3/2) + k*(-X(1) + X(4))*(X(2) - X(5))/((X(0) - X(3))**2 + (X(1) - X(4))**2 + (X(2) - X(5))**2),                                                                                                                           k*(-L0 + sqrt((X(0) - X(3))**2 + (X(1) - X(4))**2 + (X(2) - X(5))**2))*(X(0) - X(3))*(-X(1) + X(4))/((X(0) - X(3))**2 + (X(1) - X(4))**2 + (X(2) - X(5))**2)**(3/2) + k*(-X(0) + X(3))*(-X(1) + X(4))/((X(0) - X(3))**2 + (X(1) - X(4))**2 + (X(2) - X(5))**2), k*(-L0 + sqrt((X(0) - X(3))**2 + (X(1) - X(4))**2 + (X(2) - X(5))**2))*(-X(1) + X(4))*(X(1) - X(4))/((X(0) - X(3))**2 + (X(1) - X(4))**2 + (X(2) - X(5))**2)**(3/2) + k*(-L0 + sqrt((X(0) - X(3))**2 + (X(1) - X(4))**2 + (X(2) - X(5))**2))/sqrt((X(0) - X(3))**2 + (X(1) - X(4))**2 + (X(2) - X(5))**2) + k*(-X(1) + X(4))**2/((X(0) - X(3))**2 + (X(1) - X(4))**2 + (X(2) - X(5))**2),                                                                                                                           k*(-L0 + sqrt((X(0) - X(3))**2 + (X(1) - X(4))**2 + (X(2) - X(5))**2))*(-X(1) + X(4))*(X(2) - X(5))/((X(0) - X(3))**2 + (X(1) - X(4))**2 + (X(2) - X(5))**2)**(3/2) + k*(-X(1) + X(4))*(-X(2) + X(5))/((X(0) - X(3))**2 + (X(1) - X(4))**2 + (X(2) - X(5))**2)],\n",
       "[                                                                                                                          k*(-L0 + sqrt((X(0) - X(3))**2 + (X(1) - X(4))**2 + (X(2) - X(5))**2))*(-X(0) + X(3))*(-X(2) + X(5))/((X(0) - X(3))**2 + (X(1) - X(4))**2 + (X(2) - X(5))**2)**(3/2) + k*(X(0) - X(3))*(-X(2) + X(5))/((X(0) - X(3))**2 + (X(1) - X(4))**2 + (X(2) - X(5))**2),                                                                                                                           k*(-L0 + sqrt((X(0) - X(3))**2 + (X(1) - X(4))**2 + (X(2) - X(5))**2))*(-X(1) + X(4))*(-X(2) + X(5))/((X(0) - X(3))**2 + (X(1) - X(4))**2 + (X(2) - X(5))**2)**(3/2) + k*(X(1) - X(4))*(-X(2) + X(5))/((X(0) - X(3))**2 + (X(1) - X(4))**2 + (X(2) - X(5))**2), k*(-L0 + sqrt((X(0) - X(3))**2 + (X(1) - X(4))**2 + (X(2) - X(5))**2))*(-X(2) + X(5))**2/((X(0) - X(3))**2 + (X(1) - X(4))**2 + (X(2) - X(5))**2)**(3/2) - k*(-L0 + sqrt((X(0) - X(3))**2 + (X(1) - X(4))**2 + (X(2) - X(5))**2))/sqrt((X(0) - X(3))**2 + (X(1) - X(4))**2 + (X(2) - X(5))**2) + k*(-X(2) + X(5))*(X(2) - X(5))/((X(0) - X(3))**2 + (X(1) - X(4))**2 + (X(2) - X(5))**2),                                                                                                                           k*(-L0 + sqrt((X(0) - X(3))**2 + (X(1) - X(4))**2 + (X(2) - X(5))**2))*(X(0) - X(3))*(-X(2) + X(5))/((X(0) - X(3))**2 + (X(1) - X(4))**2 + (X(2) - X(5))**2)**(3/2) + k*(-X(0) + X(3))*(-X(2) + X(5))/((X(0) - X(3))**2 + (X(1) - X(4))**2 + (X(2) - X(5))**2),                                                                                                                           k*(-L0 + sqrt((X(0) - X(3))**2 + (X(1) - X(4))**2 + (X(2) - X(5))**2))*(X(1) - X(4))*(-X(2) + X(5))/((X(0) - X(3))**2 + (X(1) - X(4))**2 + (X(2) - X(5))**2)**(3/2) + k*(-X(1) + X(4))*(-X(2) + X(5))/((X(0) - X(3))**2 + (X(1) - X(4))**2 + (X(2) - X(5))**2), k*(-L0 + sqrt((X(0) - X(3))**2 + (X(1) - X(4))**2 + (X(2) - X(5))**2))*(-X(2) + X(5))*(X(2) - X(5))/((X(0) - X(3))**2 + (X(1) - X(4))**2 + (X(2) - X(5))**2)**(3/2) + k*(-L0 + sqrt((X(0) - X(3))**2 + (X(1) - X(4))**2 + (X(2) - X(5))**2))/sqrt((X(0) - X(3))**2 + (X(1) - X(4))**2 + (X(2) - X(5))**2) + k*(-X(2) + X(5))**2/((X(0) - X(3))**2 + (X(1) - X(4))**2 + (X(2) - X(5))**2)]])"
      ]
     },
     "execution_count": 8,
     "metadata": {},
     "output_type": "execute_result"
    }
   ],
   "source": [
    "H = VecDiff(G, X)\n",
    "H"
   ]
  },
  {
   "cell_type": "markdown",
   "metadata": {},
   "source": [
    "To generate Eigen Cpp code, we should do the following:\n",
    "1. Declare a `EigenFunctionGenerator` as a context.\n",
    "2. Wrap the Input Variable to a `Closure`.\n",
    "3. Call the `Closure` by inputting the function name and `Expr` (e.g. the `E`, `G`, `H`)."
   ]
  },
  {
   "cell_type": "code",
   "execution_count": 9,
   "metadata": {},
   "outputs": [],
   "source": [
    "Gen = EigenFunctionGenerator()\n",
    "Gen.MacroBeforeFunction(\"__device__ __host__\") # for CUDA\n",
    "Closure = Gen.Closure(k, L0, X)"
   ]
  },
  {
   "cell_type": "markdown",
   "metadata": {},
   "source": [
    "First, we generate the Eigen Cpp code for the Energy:"
   ]
  },
  {
   "cell_type": "code",
   "execution_count": 10,
   "metadata": {},
   "outputs": [
    {
     "name": "stdout",
     "output_type": "stream",
     "text": [
      "template <typename T>\n",
      "__device__ __host__ void SpringEnergy(T& E, const T& k, const T& L0, const Eigen::Vector<T,6>& X)\n",
      "{\n",
      "/*****************************************************************************************************************************\n",
      "Function generated by SymEigen.py \n",
      "Author: MuGdxy\n",
      "GitHub: https://github.com/MuGdxy/SymEigen\n",
      "E-Mail: lxy819469559@gmail.com\n",
      "******************************************************************************************************************************\n",
      "LaTeX expression:\n",
      "//tex:$$E = \\left[\\begin{matrix}\\frac{k \\left(- L_{0} + \\sqrt{\\left(X(0) - X(3)\\right)^{2} + \\left(X(1) - X(4)\\right)^{2} + \\left(X(2) - X(5)\\right)^{2}}\\right)^{2}}{2}\\end{matrix}\\right]$$\n",
      "\n",
      "Symbol Name Mapping:\n",
      "k:\n",
      "    -> {}\n",
      "    -> Matrix([[k]])\n",
      "L0:\n",
      "    -> {}\n",
      "    -> Matrix([[L0]])\n",
      "X:\n",
      "    -> {}\n",
      "    -> Matrix([[X(0)], [X(1)], [X(2)], [X(3)], [X(4)], [X(5)]])\n",
      "*****************************************************************************************************************************/\n",
      "/* Sub Exprs */\n",
      "/* Simplified Expr */\n",
      "E = (1.0/2.0)*k*std::pow(-L0 + std::pow(std::pow(X(0) - X(3), 2) + std::pow(X(1) - X(4), 2) + std::pow(X(2) - X(5), 2), 1.0/2.0), 2);\n",
      "}\n"
     ]
    }
   ],
   "source": [
    "print(Closure('SpringEnergy', E, 'E'))"
   ]
  },
  {
   "cell_type": "markdown",
   "metadata": {},
   "source": [
    "Then, Gradient:"
   ]
  },
  {
   "cell_type": "code",
   "execution_count": 11,
   "metadata": {},
   "outputs": [
    {
     "name": "stdout",
     "output_type": "stream",
     "text": [
      "template <typename T>\n",
      "__device__ __host__ void SpringGradient(Eigen::Vector<T,6>& G, const T& k, const T& L0, const Eigen::Vector<T,6>& X)\n",
      "{\n",
      "/*****************************************************************************************************************************\n",
      "Function generated by SymEigen.py \n",
      "Author: MuGdxy\n",
      "GitHub: https://github.com/MuGdxy/SymEigen\n",
      "E-Mail: lxy819469559@gmail.com\n",
      "******************************************************************************************************************************\n",
      "LaTeX expression:\n",
      "//tex:$$G = \\left[\\begin{matrix}\\frac{k \\left(- L_{0} + \\sqrt{\\left(X(0) - X(3)\\right)^{2} + \\left(X(1) - X(4)\\right)^{2} + \\left(X(2) - X(5)\\right)^{2}}\\right) \\left(X(0) - X(3)\\right)}{\\sqrt{\\left(X(0) - X(3)\\right)^{2} + \\left(X(1) - X(4)\\right)^{2} + \\left(X(2) - X(5)\\right)^{2}}}\\\\\\frac{k \\left(- L_{0} + \\sqrt{\\left(X(0) - X(3)\\right)^{2} + \\left(X(1) - X(4)\\right)^{2} + \\left(X(2) - X(5)\\right)^{2}}\\right) \\left(X(1) - X(4)\\right)}{\\sqrt{\\left(X(0) - X(3)\\right)^{2} + \\left(X(1) - X(4)\\right)^{2} + \\left(X(2) - X(5)\\right)^{2}}}\\\\\\frac{k \\left(- L_{0} + \\sqrt{\\left(X(0) - X(3)\\right)^{2} + \\left(X(1) - X(4)\\right)^{2} + \\left(X(2) - X(5)\\right)^{2}}\\right) \\left(X(2) - X(5)\\right)}{\\sqrt{\\left(X(0) - X(3)\\right)^{2} + \\left(X(1) - X(4)\\right)^{2} + \\left(X(2) - X(5)\\right)^{2}}}\\\\\\frac{k \\left(- L_{0} + \\sqrt{\\left(X(0) - X(3)\\right)^{2} + \\left(X(1) - X(4)\\right)^{2} + \\left(X(2) - X(5)\\right)^{2}}\\right) \\left(- X(0) + X(3)\\right)}{\\sqrt{\\left(X(0) - X(3)\\right)^{2} + \\left(X(1) - X(4)\\right)^{2} + \\left(X(2) - X(5)\\right)^{2}}}\\\\\\frac{k \\left(- L_{0} + \\sqrt{\\left(X(0) - X(3)\\right)^{2} + \\left(X(1) - X(4)\\right)^{2} + \\left(X(2) - X(5)\\right)^{2}}\\right) \\left(- X(1) + X(4)\\right)}{\\sqrt{\\left(X(0) - X(3)\\right)^{2} + \\left(X(1) - X(4)\\right)^{2} + \\left(X(2) - X(5)\\right)^{2}}}\\\\\\frac{k \\left(- L_{0} + \\sqrt{\\left(X(0) - X(3)\\right)^{2} + \\left(X(1) - X(4)\\right)^{2} + \\left(X(2) - X(5)\\right)^{2}}\\right) \\left(- X(2) + X(5)\\right)}{\\sqrt{\\left(X(0) - X(3)\\right)^{2} + \\left(X(1) - X(4)\\right)^{2} + \\left(X(2) - X(5)\\right)^{2}}}\\end{matrix}\\right]$$\n",
      "\n",
      "Symbol Name Mapping:\n",
      "k:\n",
      "    -> {}\n",
      "    -> Matrix([[k]])\n",
      "L0:\n",
      "    -> {}\n",
      "    -> Matrix([[L0]])\n",
      "X:\n",
      "    -> {}\n",
      "    -> Matrix([[X(0)], [X(1)], [X(2)], [X(3)], [X(4)], [X(5)]])\n",
      "*****************************************************************************************************************************/\n",
      "/* Sub Exprs */\n",
      "auto x0 = X(0) - X(3);\n",
      "auto x1 = X(1) - X(4);\n",
      "auto x2 = X(2) - X(5);\n",
      "auto x3 = std::pow(std::pow(x0, 2) + std::pow(x1, 2) + std::pow(x2, 2), 1.0/2.0);\n",
      "auto x4 = k*(-L0 + x3)/x3;\n",
      "/* Simplified Expr */\n",
      "G(0) = x0*x4;\n",
      "G(1) = x1*x4;\n",
      "G(2) = x2*x4;\n",
      "G(3) = -x0*x4;\n",
      "G(4) = -x1*x4;\n",
      "G(5) = -x2*x4;\n",
      "}\n"
     ]
    }
   ],
   "source": [
    "print(Closure('SpringGradient', G, 'G'))"
   ]
  },
  {
   "cell_type": "markdown",
   "metadata": {},
   "source": [
    "Finally, Hessian:"
   ]
  },
  {
   "cell_type": "code",
   "execution_count": 12,
   "metadata": {},
   "outputs": [
    {
     "name": "stdout",
     "output_type": "stream",
     "text": [
      "template <typename T>\n",
      "__device__ __host__ void SpringHessian(Eigen::Matrix<T,6,6>& H, const T& k, const T& L0, const Eigen::Vector<T,6>& X)\n",
      "{\n",
      "/*****************************************************************************************************************************\n",
      "Function generated by SymEigen.py \n",
      "Author: MuGdxy\n",
      "GitHub: https://github.com/MuGdxy/SymEigen\n",
      "E-Mail: lxy819469559@gmail.com\n",
      "******************************************************************************************************************************\n",
      "LaTeX expression:\n",
      "//tex:$$H = \\left[\\begin{matrix}\\frac{k \\left(- L_{0} + \\sqrt{\\left(X(0) - X(3)\\right)^{2} + \\left(X(1) - X(4)\\right)^{2} + \\left(X(2) - X(5)\\right)^{2}}\\right) \\left(- X(0) + X(3)\\right) \\left(X(0) - X(3)\\right)}{\\left(\\left(X(0) - X(3)\\right)^{2} + \\left(X(1) - X(4)\\right)^{2} + \\left(X(2) - X(5)\\right)^{2}\\right)^{\\frac{3}{2}}} + \\frac{k \\left(- L_{0} + \\sqrt{\\left(X(0) - X(3)\\right)^{2} + \\left(X(1) - X(4)\\right)^{2} + \\left(X(2) - X(5)\\right)^{2}}\\right)}{\\sqrt{\\left(X(0) - X(3)\\right)^{2} + \\left(X(1) - X(4)\\right)^{2} + \\left(X(2) - X(5)\\right)^{2}}} + \\frac{k \\left(X(0) - X(3)\\right)^{2}}{\\left(X(0) - X(3)\\right)^{2} + \\left(X(1) - X(4)\\right)^{2} + \\left(X(2) - X(5)\\right)^{2}} & \\frac{k \\left(- L_{0} + \\sqrt{\\left(X(0) - X(3)\\right)^{2} + \\left(X(1) - X(4)\\right)^{2} + \\left(X(2) - X(5)\\right)^{2}}\\right) \\left(X(0) - X(3)\\right) \\left(- X(1) + X(4)\\right)}{\\left(\\left(X(0) - X(3)\\right)^{2} + \\left(X(1) - X(4)\\right)^{2} + \\left(X(2) - X(5)\\right)^{2}\\right)^{\\frac{3}{2}}} + \\frac{k \\left(X(0) - X(3)\\right) \\left(X(1) - X(4)\\right)}{\\left(X(0) - X(3)\\right)^{2} + \\left(X(1) - X(4)\\right)^{2} + \\left(X(2) - X(5)\\right)^{2}} & \\frac{k \\left(- L_{0} + \\sqrt{\\left(X(0) - X(3)\\right)^{2} + \\left(X(1) - X(4)\\right)^{2} + \\left(X(2) - X(5)\\right)^{2}}\\right) \\left(X(0) - X(3)\\right) \\left(- X(2) + X(5)\\right)}{\\left(\\left(X(0) - X(3)\\right)^{2} + \\left(X(1) - X(4)\\right)^{2} + \\left(X(2) - X(5)\\right)^{2}\\right)^{\\frac{3}{2}}} + \\frac{k \\left(X(0) - X(3)\\right) \\left(X(2) - X(5)\\right)}{\\left(X(0) - X(3)\\right)^{2} + \\left(X(1) - X(4)\\right)^{2} + \\left(X(2) - X(5)\\right)^{2}} & \\frac{k \\left(- L_{0} + \\sqrt{\\left(X(0) - X(3)\\right)^{2} + \\left(X(1) - X(4)\\right)^{2} + \\left(X(2) - X(5)\\right)^{2}}\\right) \\left(X(0) - X(3)\\right)^{2}}{\\left(\\left(X(0) - X(3)\\right)^{2} + \\left(X(1) - X(4)\\right)^{2} + \\left(X(2) - X(5)\\right)^{2}\\right)^{\\frac{3}{2}}} - \\frac{k \\left(- L_{0} + \\sqrt{\\left(X(0) - X(3)\\right)^{2} + \\left(X(1) - X(4)\\right)^{2} + \\left(X(2) - X(5)\\right)^{2}}\\right)}{\\sqrt{\\left(X(0) - X(3)\\right)^{2} + \\left(X(1) - X(4)\\right)^{2} + \\left(X(2) - X(5)\\right)^{2}}} + \\frac{k \\left(- X(0) + X(3)\\right) \\left(X(0) - X(3)\\right)}{\\left(X(0) - X(3)\\right)^{2} + \\left(X(1) - X(4)\\right)^{2} + \\left(X(2) - X(5)\\right)^{2}} & \\frac{k \\left(- L_{0} + \\sqrt{\\left(X(0) - X(3)\\right)^{2} + \\left(X(1) - X(4)\\right)^{2} + \\left(X(2) - X(5)\\right)^{2}}\\right) \\left(X(0) - X(3)\\right) \\left(X(1) - X(4)\\right)}{\\left(\\left(X(0) - X(3)\\right)^{2} + \\left(X(1) - X(4)\\right)^{2} + \\left(X(2) - X(5)\\right)^{2}\\right)^{\\frac{3}{2}}} + \\frac{k \\left(X(0) - X(3)\\right) \\left(- X(1) + X(4)\\right)}{\\left(X(0) - X(3)\\right)^{2} + \\left(X(1) - X(4)\\right)^{2} + \\left(X(2) - X(5)\\right)^{2}} & \\frac{k \\left(- L_{0} + \\sqrt{\\left(X(0) - X(3)\\right)^{2} + \\left(X(1) - X(4)\\right)^{2} + \\left(X(2) - X(5)\\right)^{2}}\\right) \\left(X(0) - X(3)\\right) \\left(X(2) - X(5)\\right)}{\\left(\\left(X(0) - X(3)\\right)^{2} + \\left(X(1) - X(4)\\right)^{2} + \\left(X(2) - X(5)\\right)^{2}\\right)^{\\frac{3}{2}}} + \\frac{k \\left(X(0) - X(3)\\right) \\left(- X(2) + X(5)\\right)}{\\left(X(0) - X(3)\\right)^{2} + \\left(X(1) - X(4)\\right)^{2} + \\left(X(2) - X(5)\\right)^{2}}\\\\\\frac{k \\left(- L_{0} + \\sqrt{\\left(X(0) - X(3)\\right)^{2} + \\left(X(1) - X(4)\\right)^{2} + \\left(X(2) - X(5)\\right)^{2}}\\right) \\left(- X(0) + X(3)\\right) \\left(X(1) - X(4)\\right)}{\\left(\\left(X(0) - X(3)\\right)^{2} + \\left(X(1) - X(4)\\right)^{2} + \\left(X(2) - X(5)\\right)^{2}\\right)^{\\frac{3}{2}}} + \\frac{k \\left(X(0) - X(3)\\right) \\left(X(1) - X(4)\\right)}{\\left(X(0) - X(3)\\right)^{2} + \\left(X(1) - X(4)\\right)^{2} + \\left(X(2) - X(5)\\right)^{2}} & \\frac{k \\left(- L_{0} + \\sqrt{\\left(X(0) - X(3)\\right)^{2} + \\left(X(1) - X(4)\\right)^{2} + \\left(X(2) - X(5)\\right)^{2}}\\right) \\left(- X(1) + X(4)\\right) \\left(X(1) - X(4)\\right)}{\\left(\\left(X(0) - X(3)\\right)^{2} + \\left(X(1) - X(4)\\right)^{2} + \\left(X(2) - X(5)\\right)^{2}\\right)^{\\frac{3}{2}}} + \\frac{k \\left(- L_{0} + \\sqrt{\\left(X(0) - X(3)\\right)^{2} + \\left(X(1) - X(4)\\right)^{2} + \\left(X(2) - X(5)\\right)^{2}}\\right)}{\\sqrt{\\left(X(0) - X(3)\\right)^{2} + \\left(X(1) - X(4)\\right)^{2} + \\left(X(2) - X(5)\\right)^{2}}} + \\frac{k \\left(X(1) - X(4)\\right)^{2}}{\\left(X(0) - X(3)\\right)^{2} + \\left(X(1) - X(4)\\right)^{2} + \\left(X(2) - X(5)\\right)^{2}} & \\frac{k \\left(- L_{0} + \\sqrt{\\left(X(0) - X(3)\\right)^{2} + \\left(X(1) - X(4)\\right)^{2} + \\left(X(2) - X(5)\\right)^{2}}\\right) \\left(X(1) - X(4)\\right) \\left(- X(2) + X(5)\\right)}{\\left(\\left(X(0) - X(3)\\right)^{2} + \\left(X(1) - X(4)\\right)^{2} + \\left(X(2) - X(5)\\right)^{2}\\right)^{\\frac{3}{2}}} + \\frac{k \\left(X(1) - X(4)\\right) \\left(X(2) - X(5)\\right)}{\\left(X(0) - X(3)\\right)^{2} + \\left(X(1) - X(4)\\right)^{2} + \\left(X(2) - X(5)\\right)^{2}} & \\frac{k \\left(- L_{0} + \\sqrt{\\left(X(0) - X(3)\\right)^{2} + \\left(X(1) - X(4)\\right)^{2} + \\left(X(2) - X(5)\\right)^{2}}\\right) \\left(X(0) - X(3)\\right) \\left(X(1) - X(4)\\right)}{\\left(\\left(X(0) - X(3)\\right)^{2} + \\left(X(1) - X(4)\\right)^{2} + \\left(X(2) - X(5)\\right)^{2}\\right)^{\\frac{3}{2}}} + \\frac{k \\left(- X(0) + X(3)\\right) \\left(X(1) - X(4)\\right)}{\\left(X(0) - X(3)\\right)^{2} + \\left(X(1) - X(4)\\right)^{2} + \\left(X(2) - X(5)\\right)^{2}} & \\frac{k \\left(- L_{0} + \\sqrt{\\left(X(0) - X(3)\\right)^{2} + \\left(X(1) - X(4)\\right)^{2} + \\left(X(2) - X(5)\\right)^{2}}\\right) \\left(X(1) - X(4)\\right)^{2}}{\\left(\\left(X(0) - X(3)\\right)^{2} + \\left(X(1) - X(4)\\right)^{2} + \\left(X(2) - X(5)\\right)^{2}\\right)^{\\frac{3}{2}}} - \\frac{k \\left(- L_{0} + \\sqrt{\\left(X(0) - X(3)\\right)^{2} + \\left(X(1) - X(4)\\right)^{2} + \\left(X(2) - X(5)\\right)^{2}}\\right)}{\\sqrt{\\left(X(0) - X(3)\\right)^{2} + \\left(X(1) - X(4)\\right)^{2} + \\left(X(2) - X(5)\\right)^{2}}} + \\frac{k \\left(- X(1) + X(4)\\right) \\left(X(1) - X(4)\\right)}{\\left(X(0) - X(3)\\right)^{2} + \\left(X(1) - X(4)\\right)^{2} + \\left(X(2) - X(5)\\right)^{2}} & \\frac{k \\left(- L_{0} + \\sqrt{\\left(X(0) - X(3)\\right)^{2} + \\left(X(1) - X(4)\\right)^{2} + \\left(X(2) - X(5)\\right)^{2}}\\right) \\left(X(1) - X(4)\\right) \\left(X(2) - X(5)\\right)}{\\left(\\left(X(0) - X(3)\\right)^{2} + \\left(X(1) - X(4)\\right)^{2} + \\left(X(2) - X(5)\\right)^{2}\\right)^{\\frac{3}{2}}} + \\frac{k \\left(X(1) - X(4)\\right) \\left(- X(2) + X(5)\\right)}{\\left(X(0) - X(3)\\right)^{2} + \\left(X(1) - X(4)\\right)^{2} + \\left(X(2) - X(5)\\right)^{2}}\\\\\\frac{k \\left(- L_{0} + \\sqrt{\\left(X(0) - X(3)\\right)^{2} + \\left(X(1) - X(4)\\right)^{2} + \\left(X(2) - X(5)\\right)^{2}}\\right) \\left(- X(0) + X(3)\\right) \\left(X(2) - X(5)\\right)}{\\left(\\left(X(0) - X(3)\\right)^{2} + \\left(X(1) - X(4)\\right)^{2} + \\left(X(2) - X(5)\\right)^{2}\\right)^{\\frac{3}{2}}} + \\frac{k \\left(X(0) - X(3)\\right) \\left(X(2) - X(5)\\right)}{\\left(X(0) - X(3)\\right)^{2} + \\left(X(1) - X(4)\\right)^{2} + \\left(X(2) - X(5)\\right)^{2}} & \\frac{k \\left(- L_{0} + \\sqrt{\\left(X(0) - X(3)\\right)^{2} + \\left(X(1) - X(4)\\right)^{2} + \\left(X(2) - X(5)\\right)^{2}}\\right) \\left(- X(1) + X(4)\\right) \\left(X(2) - X(5)\\right)}{\\left(\\left(X(0) - X(3)\\right)^{2} + \\left(X(1) - X(4)\\right)^{2} + \\left(X(2) - X(5)\\right)^{2}\\right)^{\\frac{3}{2}}} + \\frac{k \\left(X(1) - X(4)\\right) \\left(X(2) - X(5)\\right)}{\\left(X(0) - X(3)\\right)^{2} + \\left(X(1) - X(4)\\right)^{2} + \\left(X(2) - X(5)\\right)^{2}} & \\frac{k \\left(- L_{0} + \\sqrt{\\left(X(0) - X(3)\\right)^{2} + \\left(X(1) - X(4)\\right)^{2} + \\left(X(2) - X(5)\\right)^{2}}\\right) \\left(- X(2) + X(5)\\right) \\left(X(2) - X(5)\\right)}{\\left(\\left(X(0) - X(3)\\right)^{2} + \\left(X(1) - X(4)\\right)^{2} + \\left(X(2) - X(5)\\right)^{2}\\right)^{\\frac{3}{2}}} + \\frac{k \\left(- L_{0} + \\sqrt{\\left(X(0) - X(3)\\right)^{2} + \\left(X(1) - X(4)\\right)^{2} + \\left(X(2) - X(5)\\right)^{2}}\\right)}{\\sqrt{\\left(X(0) - X(3)\\right)^{2} + \\left(X(1) - X(4)\\right)^{2} + \\left(X(2) - X(5)\\right)^{2}}} + \\frac{k \\left(X(2) - X(5)\\right)^{2}}{\\left(X(0) - X(3)\\right)^{2} + \\left(X(1) - X(4)\\right)^{2} + \\left(X(2) - X(5)\\right)^{2}} & \\frac{k \\left(- L_{0} + \\sqrt{\\left(X(0) - X(3)\\right)^{2} + \\left(X(1) - X(4)\\right)^{2} + \\left(X(2) - X(5)\\right)^{2}}\\right) \\left(X(0) - X(3)\\right) \\left(X(2) - X(5)\\right)}{\\left(\\left(X(0) - X(3)\\right)^{2} + \\left(X(1) - X(4)\\right)^{2} + \\left(X(2) - X(5)\\right)^{2}\\right)^{\\frac{3}{2}}} + \\frac{k \\left(- X(0) + X(3)\\right) \\left(X(2) - X(5)\\right)}{\\left(X(0) - X(3)\\right)^{2} + \\left(X(1) - X(4)\\right)^{2} + \\left(X(2) - X(5)\\right)^{2}} & \\frac{k \\left(- L_{0} + \\sqrt{\\left(X(0) - X(3)\\right)^{2} + \\left(X(1) - X(4)\\right)^{2} + \\left(X(2) - X(5)\\right)^{2}}\\right) \\left(X(1) - X(4)\\right) \\left(X(2) - X(5)\\right)}{\\left(\\left(X(0) - X(3)\\right)^{2} + \\left(X(1) - X(4)\\right)^{2} + \\left(X(2) - X(5)\\right)^{2}\\right)^{\\frac{3}{2}}} + \\frac{k \\left(- X(1) + X(4)\\right) \\left(X(2) - X(5)\\right)}{\\left(X(0) - X(3)\\right)^{2} + \\left(X(1) - X(4)\\right)^{2} + \\left(X(2) - X(5)\\right)^{2}} & \\frac{k \\left(- L_{0} + \\sqrt{\\left(X(0) - X(3)\\right)^{2} + \\left(X(1) - X(4)\\right)^{2} + \\left(X(2) - X(5)\\right)^{2}}\\right) \\left(X(2) - X(5)\\right)^{2}}{\\left(\\left(X(0) - X(3)\\right)^{2} + \\left(X(1) - X(4)\\right)^{2} + \\left(X(2) - X(5)\\right)^{2}\\right)^{\\frac{3}{2}}} - \\frac{k \\left(- L_{0} + \\sqrt{\\left(X(0) - X(3)\\right)^{2} + \\left(X(1) - X(4)\\right)^{2} + \\left(X(2) - X(5)\\right)^{2}}\\right)}{\\sqrt{\\left(X(0) - X(3)\\right)^{2} + \\left(X(1) - X(4)\\right)^{2} + \\left(X(2) - X(5)\\right)^{2}}} + \\frac{k \\left(- X(2) + X(5)\\right) \\left(X(2) - X(5)\\right)}{\\left(X(0) - X(3)\\right)^{2} + \\left(X(1) - X(4)\\right)^{2} + \\left(X(2) - X(5)\\right)^{2}}\\\\\\frac{k \\left(- L_{0} + \\sqrt{\\left(X(0) - X(3)\\right)^{2} + \\left(X(1) - X(4)\\right)^{2} + \\left(X(2) - X(5)\\right)^{2}}\\right) \\left(- X(0) + X(3)\\right)^{2}}{\\left(\\left(X(0) - X(3)\\right)^{2} + \\left(X(1) - X(4)\\right)^{2} + \\left(X(2) - X(5)\\right)^{2}\\right)^{\\frac{3}{2}}} - \\frac{k \\left(- L_{0} + \\sqrt{\\left(X(0) - X(3)\\right)^{2} + \\left(X(1) - X(4)\\right)^{2} + \\left(X(2) - X(5)\\right)^{2}}\\right)}{\\sqrt{\\left(X(0) - X(3)\\right)^{2} + \\left(X(1) - X(4)\\right)^{2} + \\left(X(2) - X(5)\\right)^{2}}} + \\frac{k \\left(- X(0) + X(3)\\right) \\left(X(0) - X(3)\\right)}{\\left(X(0) - X(3)\\right)^{2} + \\left(X(1) - X(4)\\right)^{2} + \\left(X(2) - X(5)\\right)^{2}} & \\frac{k \\left(- L_{0} + \\sqrt{\\left(X(0) - X(3)\\right)^{2} + \\left(X(1) - X(4)\\right)^{2} + \\left(X(2) - X(5)\\right)^{2}}\\right) \\left(- X(0) + X(3)\\right) \\left(- X(1) + X(4)\\right)}{\\left(\\left(X(0) - X(3)\\right)^{2} + \\left(X(1) - X(4)\\right)^{2} + \\left(X(2) - X(5)\\right)^{2}\\right)^{\\frac{3}{2}}} + \\frac{k \\left(- X(0) + X(3)\\right) \\left(X(1) - X(4)\\right)}{\\left(X(0) - X(3)\\right)^{2} + \\left(X(1) - X(4)\\right)^{2} + \\left(X(2) - X(5)\\right)^{2}} & \\frac{k \\left(- L_{0} + \\sqrt{\\left(X(0) - X(3)\\right)^{2} + \\left(X(1) - X(4)\\right)^{2} + \\left(X(2) - X(5)\\right)^{2}}\\right) \\left(- X(0) + X(3)\\right) \\left(- X(2) + X(5)\\right)}{\\left(\\left(X(0) - X(3)\\right)^{2} + \\left(X(1) - X(4)\\right)^{2} + \\left(X(2) - X(5)\\right)^{2}\\right)^{\\frac{3}{2}}} + \\frac{k \\left(- X(0) + X(3)\\right) \\left(X(2) - X(5)\\right)}{\\left(X(0) - X(3)\\right)^{2} + \\left(X(1) - X(4)\\right)^{2} + \\left(X(2) - X(5)\\right)^{2}} & \\frac{k \\left(- L_{0} + \\sqrt{\\left(X(0) - X(3)\\right)^{2} + \\left(X(1) - X(4)\\right)^{2} + \\left(X(2) - X(5)\\right)^{2}}\\right) \\left(- X(0) + X(3)\\right) \\left(X(0) - X(3)\\right)}{\\left(\\left(X(0) - X(3)\\right)^{2} + \\left(X(1) - X(4)\\right)^{2} + \\left(X(2) - X(5)\\right)^{2}\\right)^{\\frac{3}{2}}} + \\frac{k \\left(- L_{0} + \\sqrt{\\left(X(0) - X(3)\\right)^{2} + \\left(X(1) - X(4)\\right)^{2} + \\left(X(2) - X(5)\\right)^{2}}\\right)}{\\sqrt{\\left(X(0) - X(3)\\right)^{2} + \\left(X(1) - X(4)\\right)^{2} + \\left(X(2) - X(5)\\right)^{2}}} + \\frac{k \\left(- X(0) + X(3)\\right)^{2}}{\\left(X(0) - X(3)\\right)^{2} + \\left(X(1) - X(4)\\right)^{2} + \\left(X(2) - X(5)\\right)^{2}} & \\frac{k \\left(- L_{0} + \\sqrt{\\left(X(0) - X(3)\\right)^{2} + \\left(X(1) - X(4)\\right)^{2} + \\left(X(2) - X(5)\\right)^{2}}\\right) \\left(- X(0) + X(3)\\right) \\left(X(1) - X(4)\\right)}{\\left(\\left(X(0) - X(3)\\right)^{2} + \\left(X(1) - X(4)\\right)^{2} + \\left(X(2) - X(5)\\right)^{2}\\right)^{\\frac{3}{2}}} + \\frac{k \\left(- X(0) + X(3)\\right) \\left(- X(1) + X(4)\\right)}{\\left(X(0) - X(3)\\right)^{2} + \\left(X(1) - X(4)\\right)^{2} + \\left(X(2) - X(5)\\right)^{2}} & \\frac{k \\left(- L_{0} + \\sqrt{\\left(X(0) - X(3)\\right)^{2} + \\left(X(1) - X(4)\\right)^{2} + \\left(X(2) - X(5)\\right)^{2}}\\right) \\left(- X(0) + X(3)\\right) \\left(X(2) - X(5)\\right)}{\\left(\\left(X(0) - X(3)\\right)^{2} + \\left(X(1) - X(4)\\right)^{2} + \\left(X(2) - X(5)\\right)^{2}\\right)^{\\frac{3}{2}}} + \\frac{k \\left(- X(0) + X(3)\\right) \\left(- X(2) + X(5)\\right)}{\\left(X(0) - X(3)\\right)^{2} + \\left(X(1) - X(4)\\right)^{2} + \\left(X(2) - X(5)\\right)^{2}}\\\\\\frac{k \\left(- L_{0} + \\sqrt{\\left(X(0) - X(3)\\right)^{2} + \\left(X(1) - X(4)\\right)^{2} + \\left(X(2) - X(5)\\right)^{2}}\\right) \\left(- X(0) + X(3)\\right) \\left(- X(1) + X(4)\\right)}{\\left(\\left(X(0) - X(3)\\right)^{2} + \\left(X(1) - X(4)\\right)^{2} + \\left(X(2) - X(5)\\right)^{2}\\right)^{\\frac{3}{2}}} + \\frac{k \\left(X(0) - X(3)\\right) \\left(- X(1) + X(4)\\right)}{\\left(X(0) - X(3)\\right)^{2} + \\left(X(1) - X(4)\\right)^{2} + \\left(X(2) - X(5)\\right)^{2}} & \\frac{k \\left(- L_{0} + \\sqrt{\\left(X(0) - X(3)\\right)^{2} + \\left(X(1) - X(4)\\right)^{2} + \\left(X(2) - X(5)\\right)^{2}}\\right) \\left(- X(1) + X(4)\\right)^{2}}{\\left(\\left(X(0) - X(3)\\right)^{2} + \\left(X(1) - X(4)\\right)^{2} + \\left(X(2) - X(5)\\right)^{2}\\right)^{\\frac{3}{2}}} - \\frac{k \\left(- L_{0} + \\sqrt{\\left(X(0) - X(3)\\right)^{2} + \\left(X(1) - X(4)\\right)^{2} + \\left(X(2) - X(5)\\right)^{2}}\\right)}{\\sqrt{\\left(X(0) - X(3)\\right)^{2} + \\left(X(1) - X(4)\\right)^{2} + \\left(X(2) - X(5)\\right)^{2}}} + \\frac{k \\left(- X(1) + X(4)\\right) \\left(X(1) - X(4)\\right)}{\\left(X(0) - X(3)\\right)^{2} + \\left(X(1) - X(4)\\right)^{2} + \\left(X(2) - X(5)\\right)^{2}} & \\frac{k \\left(- L_{0} + \\sqrt{\\left(X(0) - X(3)\\right)^{2} + \\left(X(1) - X(4)\\right)^{2} + \\left(X(2) - X(5)\\right)^{2}}\\right) \\left(- X(1) + X(4)\\right) \\left(- X(2) + X(5)\\right)}{\\left(\\left(X(0) - X(3)\\right)^{2} + \\left(X(1) - X(4)\\right)^{2} + \\left(X(2) - X(5)\\right)^{2}\\right)^{\\frac{3}{2}}} + \\frac{k \\left(- X(1) + X(4)\\right) \\left(X(2) - X(5)\\right)}{\\left(X(0) - X(3)\\right)^{2} + \\left(X(1) - X(4)\\right)^{2} + \\left(X(2) - X(5)\\right)^{2}} & \\frac{k \\left(- L_{0} + \\sqrt{\\left(X(0) - X(3)\\right)^{2} + \\left(X(1) - X(4)\\right)^{2} + \\left(X(2) - X(5)\\right)^{2}}\\right) \\left(X(0) - X(3)\\right) \\left(- X(1) + X(4)\\right)}{\\left(\\left(X(0) - X(3)\\right)^{2} + \\left(X(1) - X(4)\\right)^{2} + \\left(X(2) - X(5)\\right)^{2}\\right)^{\\frac{3}{2}}} + \\frac{k \\left(- X(0) + X(3)\\right) \\left(- X(1) + X(4)\\right)}{\\left(X(0) - X(3)\\right)^{2} + \\left(X(1) - X(4)\\right)^{2} + \\left(X(2) - X(5)\\right)^{2}} & \\frac{k \\left(- L_{0} + \\sqrt{\\left(X(0) - X(3)\\right)^{2} + \\left(X(1) - X(4)\\right)^{2} + \\left(X(2) - X(5)\\right)^{2}}\\right) \\left(- X(1) + X(4)\\right) \\left(X(1) - X(4)\\right)}{\\left(\\left(X(0) - X(3)\\right)^{2} + \\left(X(1) - X(4)\\right)^{2} + \\left(X(2) - X(5)\\right)^{2}\\right)^{\\frac{3}{2}}} + \\frac{k \\left(- L_{0} + \\sqrt{\\left(X(0) - X(3)\\right)^{2} + \\left(X(1) - X(4)\\right)^{2} + \\left(X(2) - X(5)\\right)^{2}}\\right)}{\\sqrt{\\left(X(0) - X(3)\\right)^{2} + \\left(X(1) - X(4)\\right)^{2} + \\left(X(2) - X(5)\\right)^{2}}} + \\frac{k \\left(- X(1) + X(4)\\right)^{2}}{\\left(X(0) - X(3)\\right)^{2} + \\left(X(1) - X(4)\\right)^{2} + \\left(X(2) - X(5)\\right)^{2}} & \\frac{k \\left(- L_{0} + \\sqrt{\\left(X(0) - X(3)\\right)^{2} + \\left(X(1) - X(4)\\right)^{2} + \\left(X(2) - X(5)\\right)^{2}}\\right) \\left(- X(1) + X(4)\\right) \\left(X(2) - X(5)\\right)}{\\left(\\left(X(0) - X(3)\\right)^{2} + \\left(X(1) - X(4)\\right)^{2} + \\left(X(2) - X(5)\\right)^{2}\\right)^{\\frac{3}{2}}} + \\frac{k \\left(- X(1) + X(4)\\right) \\left(- X(2) + X(5)\\right)}{\\left(X(0) - X(3)\\right)^{2} + \\left(X(1) - X(4)\\right)^{2} + \\left(X(2) - X(5)\\right)^{2}}\\\\\\frac{k \\left(- L_{0} + \\sqrt{\\left(X(0) - X(3)\\right)^{2} + \\left(X(1) - X(4)\\right)^{2} + \\left(X(2) - X(5)\\right)^{2}}\\right) \\left(- X(0) + X(3)\\right) \\left(- X(2) + X(5)\\right)}{\\left(\\left(X(0) - X(3)\\right)^{2} + \\left(X(1) - X(4)\\right)^{2} + \\left(X(2) - X(5)\\right)^{2}\\right)^{\\frac{3}{2}}} + \\frac{k \\left(X(0) - X(3)\\right) \\left(- X(2) + X(5)\\right)}{\\left(X(0) - X(3)\\right)^{2} + \\left(X(1) - X(4)\\right)^{2} + \\left(X(2) - X(5)\\right)^{2}} & \\frac{k \\left(- L_{0} + \\sqrt{\\left(X(0) - X(3)\\right)^{2} + \\left(X(1) - X(4)\\right)^{2} + \\left(X(2) - X(5)\\right)^{2}}\\right) \\left(- X(1) + X(4)\\right) \\left(- X(2) + X(5)\\right)}{\\left(\\left(X(0) - X(3)\\right)^{2} + \\left(X(1) - X(4)\\right)^{2} + \\left(X(2) - X(5)\\right)^{2}\\right)^{\\frac{3}{2}}} + \\frac{k \\left(X(1) - X(4)\\right) \\left(- X(2) + X(5)\\right)}{\\left(X(0) - X(3)\\right)^{2} + \\left(X(1) - X(4)\\right)^{2} + \\left(X(2) - X(5)\\right)^{2}} & \\frac{k \\left(- L_{0} + \\sqrt{\\left(X(0) - X(3)\\right)^{2} + \\left(X(1) - X(4)\\right)^{2} + \\left(X(2) - X(5)\\right)^{2}}\\right) \\left(- X(2) + X(5)\\right)^{2}}{\\left(\\left(X(0) - X(3)\\right)^{2} + \\left(X(1) - X(4)\\right)^{2} + \\left(X(2) - X(5)\\right)^{2}\\right)^{\\frac{3}{2}}} - \\frac{k \\left(- L_{0} + \\sqrt{\\left(X(0) - X(3)\\right)^{2} + \\left(X(1) - X(4)\\right)^{2} + \\left(X(2) - X(5)\\right)^{2}}\\right)}{\\sqrt{\\left(X(0) - X(3)\\right)^{2} + \\left(X(1) - X(4)\\right)^{2} + \\left(X(2) - X(5)\\right)^{2}}} + \\frac{k \\left(- X(2) + X(5)\\right) \\left(X(2) - X(5)\\right)}{\\left(X(0) - X(3)\\right)^{2} + \\left(X(1) - X(4)\\right)^{2} + \\left(X(2) - X(5)\\right)^{2}} & \\frac{k \\left(- L_{0} + \\sqrt{\\left(X(0) - X(3)\\right)^{2} + \\left(X(1) - X(4)\\right)^{2} + \\left(X(2) - X(5)\\right)^{2}}\\right) \\left(X(0) - X(3)\\right) \\left(- X(2) + X(5)\\right)}{\\left(\\left(X(0) - X(3)\\right)^{2} + \\left(X(1) - X(4)\\right)^{2} + \\left(X(2) - X(5)\\right)^{2}\\right)^{\\frac{3}{2}}} + \\frac{k \\left(- X(0) + X(3)\\right) \\left(- X(2) + X(5)\\right)}{\\left(X(0) - X(3)\\right)^{2} + \\left(X(1) - X(4)\\right)^{2} + \\left(X(2) - X(5)\\right)^{2}} & \\frac{k \\left(- L_{0} + \\sqrt{\\left(X(0) - X(3)\\right)^{2} + \\left(X(1) - X(4)\\right)^{2} + \\left(X(2) - X(5)\\right)^{2}}\\right) \\left(X(1) - X(4)\\right) \\left(- X(2) + X(5)\\right)}{\\left(\\left(X(0) - X(3)\\right)^{2} + \\left(X(1) - X(4)\\right)^{2} + \\left(X(2) - X(5)\\right)^{2}\\right)^{\\frac{3}{2}}} + \\frac{k \\left(- X(1) + X(4)\\right) \\left(- X(2) + X(5)\\right)}{\\left(X(0) - X(3)\\right)^{2} + \\left(X(1) - X(4)\\right)^{2} + \\left(X(2) - X(5)\\right)^{2}} & \\frac{k \\left(- L_{0} + \\sqrt{\\left(X(0) - X(3)\\right)^{2} + \\left(X(1) - X(4)\\right)^{2} + \\left(X(2) - X(5)\\right)^{2}}\\right) \\left(- X(2) + X(5)\\right) \\left(X(2) - X(5)\\right)}{\\left(\\left(X(0) - X(3)\\right)^{2} + \\left(X(1) - X(4)\\right)^{2} + \\left(X(2) - X(5)\\right)^{2}\\right)^{\\frac{3}{2}}} + \\frac{k \\left(- L_{0} + \\sqrt{\\left(X(0) - X(3)\\right)^{2} + \\left(X(1) - X(4)\\right)^{2} + \\left(X(2) - X(5)\\right)^{2}}\\right)}{\\sqrt{\\left(X(0) - X(3)\\right)^{2} + \\left(X(1) - X(4)\\right)^{2} + \\left(X(2) - X(5)\\right)^{2}}} + \\frac{k \\left(- X(2) + X(5)\\right)^{2}}{\\left(X(0) - X(3)\\right)^{2} + \\left(X(1) - X(4)\\right)^{2} + \\left(X(2) - X(5)\\right)^{2}}\\end{matrix}\\right]$$\n",
      "\n",
      "Symbol Name Mapping:\n",
      "k:\n",
      "    -> {}\n",
      "    -> Matrix([[k]])\n",
      "L0:\n",
      "    -> {}\n",
      "    -> Matrix([[L0]])\n",
      "X:\n",
      "    -> {}\n",
      "    -> Matrix([[X(0)], [X(1)], [X(2)], [X(3)], [X(4)], [X(5)]])\n",
      "*****************************************************************************************************************************/\n",
      "/* Sub Exprs */\n",
      "auto x0 = X(0) - X(3);\n",
      "auto x1 = std::pow(x0, 2);\n",
      "auto x2 = X(1) - X(4);\n",
      "auto x3 = std::pow(x2, 2);\n",
      "auto x4 = X(2) - X(5);\n",
      "auto x5 = std::pow(x4, 2);\n",
      "auto x6 = x1 + x3 + x5;\n",
      "auto x7 = k/x6;\n",
      "auto x8 = std::pow(x6, 1.0/2.0);\n",
      "auto x9 = k*(-L0 + x8);\n",
      "auto x10 = x9/x8;\n",
      "auto x11 = -x0;\n",
      "auto x12 = x9/std::pow(x6, 3.0/2.0);\n",
      "auto x13 = x0*x12;\n",
      "auto x14 = x10 + x11*x13;\n",
      "auto x15 = x0*x7;\n",
      "auto x16 = x15*x2;\n",
      "auto x17 = -x2;\n",
      "auto x18 = x13*x17;\n",
      "auto x19 = x15*x4;\n",
      "auto x20 = -x4;\n",
      "auto x21 = x13*x20;\n",
      "auto x22 = -x10;\n",
      "auto x23 = x11*x15 + x22;\n",
      "auto x24 = x15*x17;\n",
      "auto x25 = x13*x2;\n",
      "auto x26 = x15*x20;\n",
      "auto x27 = x13*x4;\n",
      "auto x28 = x12*x2;\n",
      "auto x29 = x11*x28;\n",
      "auto x30 = x10 + x17*x28;\n",
      "auto x31 = x2*x7;\n",
      "auto x32 = x31*x4;\n",
      "auto x33 = x20*x28;\n",
      "auto x34 = x11*x31;\n",
      "auto x35 = x17*x31 + x22;\n",
      "auto x36 = x20*x31;\n",
      "auto x37 = x28*x4;\n",
      "auto x38 = x12*x4;\n",
      "auto x39 = x11*x38;\n",
      "auto x40 = x17*x38;\n",
      "auto x41 = x10 + x20*x38;\n",
      "auto x42 = x4*x7;\n",
      "auto x43 = x11*x42;\n",
      "auto x44 = x17*x42;\n",
      "auto x45 = x20*x42 + x22;\n",
      "auto x46 = std::pow(x11, 2);\n",
      "auto x47 = x11*x12;\n",
      "auto x48 = x17*x47;\n",
      "auto x49 = x20*x47;\n",
      "auto x50 = x11*x7;\n",
      "auto x51 = x17*x50;\n",
      "auto x52 = x20*x50;\n",
      "auto x53 = std::pow(x17, 2);\n",
      "auto x54 = x17*x20;\n",
      "auto x55 = x12*x54;\n",
      "auto x56 = x54*x7;\n",
      "auto x57 = std::pow(x20, 2);\n",
      "/* Simplified Expr */\n",
      "H(0,0) = x1*x7 + x14;\n",
      "H(0,1) = x16 + x18;\n",
      "H(0,2) = x19 + x21;\n",
      "H(0,3) = x1*x12 + x23;\n",
      "H(0,4) = x24 + x25;\n",
      "H(0,5) = x26 + x27;\n",
      "H(1,0) = x16 + x29;\n",
      "H(1,1) = x3*x7 + x30;\n",
      "H(1,2) = x32 + x33;\n",
      "H(1,3) = x25 + x34;\n",
      "H(1,4) = x12*x3 + x35;\n",
      "H(1,5) = x36 + x37;\n",
      "H(2,0) = x19 + x39;\n",
      "H(2,1) = x32 + x40;\n",
      "H(2,2) = x41 + x5*x7;\n",
      "H(2,3) = x27 + x43;\n",
      "H(2,4) = x37 + x44;\n",
      "H(2,5) = x12*x5 + x45;\n",
      "H(3,0) = x12*x46 + x23;\n",
      "H(3,1) = x34 + x48;\n",
      "H(3,2) = x43 + x49;\n",
      "H(3,3) = x14 + x46*x7;\n",
      "H(3,4) = x29 + x51;\n",
      "H(3,5) = x39 + x52;\n",
      "H(4,0) = x24 + x48;\n",
      "H(4,1) = x12*x53 + x35;\n",
      "H(4,2) = x44 + x55;\n",
      "H(4,3) = x18 + x51;\n",
      "H(4,4) = x30 + x53*x7;\n",
      "H(4,5) = x40 + x56;\n",
      "H(5,0) = x26 + x49;\n",
      "H(5,1) = x36 + x55;\n",
      "H(5,2) = x12*x57 + x45;\n",
      "H(5,3) = x21 + x52;\n",
      "H(5,4) = x33 + x56;\n",
      "H(5,5) = x41 + x57*x7;\n",
      "}\n"
     ]
    }
   ],
   "source": [
    "print(Closure('SpringHessian', H, 'H'))"
   ]
  }
 ],
 "metadata": {
  "kernelspec": {
   "display_name": "Python 3",
   "language": "python",
   "name": "python3"
  },
  "language_info": {
   "codemirror_mode": {
    "name": "ipython",
    "version": 3
   },
   "file_extension": ".py",
   "mimetype": "text/x-python",
   "name": "python",
   "nbconvert_exporter": "python",
   "pygments_lexer": "ipython3",
   "version": "3.11.5"
  },
  "orig_nbformat": 4
 },
 "nbformat": 4,
 "nbformat_minor": 2
}
