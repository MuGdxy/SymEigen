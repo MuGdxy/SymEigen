{
 "cells": [
  {
   "cell_type": "markdown",
   "metadata": {},
   "source": [
    "First, we import SymEigen."
   ]
  },
  {
   "cell_type": "code",
   "execution_count": 11,
   "metadata": {},
   "outputs": [],
   "source": [
    "from SymEigen import *"
   ]
  },
  {
   "cell_type": "markdown",
   "metadata": {},
   "source": [
    "Say, we are calculating the Energy of a spring.\n",
    "$$\n",
    "E = \\frac{1}{2} k (|\\mathbf{x}-\\mathbf{y}| - L_0)^2\n",
    "$$\n",
    "To compactly write the equation, we can define the following variables, fully 6 Dof:\n",
    "$$\n",
    "\\mathbf{X} = \n",
    "\\begin{bmatrix}\n",
    "\\mathbf{x} \\\\\n",
    "\\mathbf{y} \n",
    "\\end{bmatrix}\n",
    "$$\n",
    "Then we can define such a matrix as follows:"
   ]
  },
  {
   "cell_type": "code",
   "execution_count": 12,
   "metadata": {},
   "outputs": [
    {
     "data": {
      "text/latex": [
       "$\\displaystyle \\left[\\begin{matrix}X(0)\\\\X(1)\\\\X(2)\\\\X(3)\\\\X(4)\\\\X(5)\\end{matrix}\\right]$"
      ],
      "text/plain": [
       "Matrix([\n",
       "[X(0)],\n",
       "[X(1)],\n",
       "[X(2)],\n",
       "[X(3)],\n",
       "[X(4)],\n",
       "[X(5)]])"
      ]
     },
     "execution_count": 12,
     "metadata": {},
     "output_type": "execute_result"
    }
   ],
   "source": [
    "X = Eigen.Vector('X', 6)\n",
    "X"
   ]
  },
  {
   "cell_type": "markdown",
   "metadata": {},
   "source": [
    "Other coefficients are defined as follows:"
   ]
  },
  {
   "cell_type": "code",
   "execution_count": 13,
   "metadata": {},
   "outputs": [],
   "source": [
    "k = Eigen.Scalar('k')\n",
    "L0 = Eigen.Scalar('L0')"
   ]
  },
  {
   "cell_type": "markdown",
   "metadata": {},
   "source": [
    "It's easy to calculate the Energy as follows:"
   ]
  },
  {
   "cell_type": "code",
   "execution_count": 14,
   "metadata": {},
   "outputs": [
    {
     "data": {
      "text/latex": [
       "$\\displaystyle \\left[\\begin{matrix}\\frac{k \\left(- L_{0} + \\sqrt{\\left(X(0) - X(3)\\right)^{2} + \\left(X(1) - X(4)\\right)^{2} + \\left(X(2) - X(5)\\right)^{2}}\\right)}{2}\\end{matrix}\\right]$"
      ],
      "text/plain": [
       "Matrix([[k*(-L0 + sqrt((X(0) - X(3))**2 + (X(1) - X(4))**2 + (X(2) - X(5))**2))/2]])"
      ]
     },
     "execution_count": 14,
     "metadata": {},
     "output_type": "execute_result"
    }
   ],
   "source": [
    "X_l = Matrix(X[0:3])\n",
    "X_r = Matrix(X[3:6])\n",
    "d = X_l - X_r \n",
    "\n",
    "E = k * (sqrt(d.T * d) - L0) / 2\n",
    "E"
   ]
  },
  {
   "cell_type": "markdown",
   "metadata": {},
   "source": [
    "We use `VecDiff` to calculate the Vec/Vec derivative, so the Gradient of the Energy is:"
   ]
  },
  {
   "cell_type": "code",
   "execution_count": 15,
   "metadata": {},
   "outputs": [
    {
     "data": {
      "text/latex": [
       "$\\displaystyle \\left[\\begin{matrix}\\frac{k \\left(X(0) - X(3)\\right)}{2 \\sqrt{\\left(X(0) - X(3)\\right)^{2} + \\left(X(1) - X(4)\\right)^{2} + \\left(X(2) - X(5)\\right)^{2}}}\\\\\\frac{k \\left(X(1) - X(4)\\right)}{2 \\sqrt{\\left(X(0) - X(3)\\right)^{2} + \\left(X(1) - X(4)\\right)^{2} + \\left(X(2) - X(5)\\right)^{2}}}\\\\\\frac{k \\left(X(2) - X(5)\\right)}{2 \\sqrt{\\left(X(0) - X(3)\\right)^{2} + \\left(X(1) - X(4)\\right)^{2} + \\left(X(2) - X(5)\\right)^{2}}}\\\\\\frac{k \\left(- X(0) + X(3)\\right)}{2 \\sqrt{\\left(X(0) - X(3)\\right)^{2} + \\left(X(1) - X(4)\\right)^{2} + \\left(X(2) - X(5)\\right)^{2}}}\\\\\\frac{k \\left(- X(1) + X(4)\\right)}{2 \\sqrt{\\left(X(0) - X(3)\\right)^{2} + \\left(X(1) - X(4)\\right)^{2} + \\left(X(2) - X(5)\\right)^{2}}}\\\\\\frac{k \\left(- X(2) + X(5)\\right)}{2 \\sqrt{\\left(X(0) - X(3)\\right)^{2} + \\left(X(1) - X(4)\\right)^{2} + \\left(X(2) - X(5)\\right)^{2}}}\\end{matrix}\\right]$"
      ],
      "text/plain": [
       "Matrix([\n",
       "[ k*(X(0) - X(3))/(2*sqrt((X(0) - X(3))**2 + (X(1) - X(4))**2 + (X(2) - X(5))**2))],\n",
       "[ k*(X(1) - X(4))/(2*sqrt((X(0) - X(3))**2 + (X(1) - X(4))**2 + (X(2) - X(5))**2))],\n",
       "[ k*(X(2) - X(5))/(2*sqrt((X(0) - X(3))**2 + (X(1) - X(4))**2 + (X(2) - X(5))**2))],\n",
       "[k*(-X(0) + X(3))/(2*sqrt((X(0) - X(3))**2 + (X(1) - X(4))**2 + (X(2) - X(5))**2))],\n",
       "[k*(-X(1) + X(4))/(2*sqrt((X(0) - X(3))**2 + (X(1) - X(4))**2 + (X(2) - X(5))**2))],\n",
       "[k*(-X(2) + X(5))/(2*sqrt((X(0) - X(3))**2 + (X(1) - X(4))**2 + (X(2) - X(5))**2))]])"
      ]
     },
     "execution_count": 15,
     "metadata": {},
     "output_type": "execute_result"
    }
   ],
   "source": [
    "G = VecDiff(E, X)\n",
    "G"
   ]
  },
  {
   "cell_type": "markdown",
   "metadata": {},
   "source": [
    "So for the Hessian, we have:"
   ]
  },
  {
   "cell_type": "code",
   "execution_count": 16,
   "metadata": {},
   "outputs": [
    {
     "data": {
      "text/latex": [
       "$\\displaystyle \\left[\\begin{matrix}\\frac{k \\left(- X(0) + X(3)\\right) \\left(X(0) - X(3)\\right)}{2 \\left(\\left(X(0) - X(3)\\right)^{2} + \\left(X(1) - X(4)\\right)^{2} + \\left(X(2) - X(5)\\right)^{2}\\right)^{\\frac{3}{2}}} + \\frac{k}{2 \\sqrt{\\left(X(0) - X(3)\\right)^{2} + \\left(X(1) - X(4)\\right)^{2} + \\left(X(2) - X(5)\\right)^{2}}} & \\frac{k \\left(X(0) - X(3)\\right) \\left(- X(1) + X(4)\\right)}{2 \\left(\\left(X(0) - X(3)\\right)^{2} + \\left(X(1) - X(4)\\right)^{2} + \\left(X(2) - X(5)\\right)^{2}\\right)^{\\frac{3}{2}}} & \\frac{k \\left(X(0) - X(3)\\right) \\left(- X(2) + X(5)\\right)}{2 \\left(\\left(X(0) - X(3)\\right)^{2} + \\left(X(1) - X(4)\\right)^{2} + \\left(X(2) - X(5)\\right)^{2}\\right)^{\\frac{3}{2}}} & \\frac{k \\left(X(0) - X(3)\\right)^{2}}{2 \\left(\\left(X(0) - X(3)\\right)^{2} + \\left(X(1) - X(4)\\right)^{2} + \\left(X(2) - X(5)\\right)^{2}\\right)^{\\frac{3}{2}}} - \\frac{k}{2 \\sqrt{\\left(X(0) - X(3)\\right)^{2} + \\left(X(1) - X(4)\\right)^{2} + \\left(X(2) - X(5)\\right)^{2}}} & \\frac{k \\left(X(0) - X(3)\\right) \\left(X(1) - X(4)\\right)}{2 \\left(\\left(X(0) - X(3)\\right)^{2} + \\left(X(1) - X(4)\\right)^{2} + \\left(X(2) - X(5)\\right)^{2}\\right)^{\\frac{3}{2}}} & \\frac{k \\left(X(0) - X(3)\\right) \\left(X(2) - X(5)\\right)}{2 \\left(\\left(X(0) - X(3)\\right)^{2} + \\left(X(1) - X(4)\\right)^{2} + \\left(X(2) - X(5)\\right)^{2}\\right)^{\\frac{3}{2}}}\\\\\\frac{k \\left(- X(0) + X(3)\\right) \\left(X(1) - X(4)\\right)}{2 \\left(\\left(X(0) - X(3)\\right)^{2} + \\left(X(1) - X(4)\\right)^{2} + \\left(X(2) - X(5)\\right)^{2}\\right)^{\\frac{3}{2}}} & \\frac{k \\left(- X(1) + X(4)\\right) \\left(X(1) - X(4)\\right)}{2 \\left(\\left(X(0) - X(3)\\right)^{2} + \\left(X(1) - X(4)\\right)^{2} + \\left(X(2) - X(5)\\right)^{2}\\right)^{\\frac{3}{2}}} + \\frac{k}{2 \\sqrt{\\left(X(0) - X(3)\\right)^{2} + \\left(X(1) - X(4)\\right)^{2} + \\left(X(2) - X(5)\\right)^{2}}} & \\frac{k \\left(X(1) - X(4)\\right) \\left(- X(2) + X(5)\\right)}{2 \\left(\\left(X(0) - X(3)\\right)^{2} + \\left(X(1) - X(4)\\right)^{2} + \\left(X(2) - X(5)\\right)^{2}\\right)^{\\frac{3}{2}}} & \\frac{k \\left(X(0) - X(3)\\right) \\left(X(1) - X(4)\\right)}{2 \\left(\\left(X(0) - X(3)\\right)^{2} + \\left(X(1) - X(4)\\right)^{2} + \\left(X(2) - X(5)\\right)^{2}\\right)^{\\frac{3}{2}}} & \\frac{k \\left(X(1) - X(4)\\right)^{2}}{2 \\left(\\left(X(0) - X(3)\\right)^{2} + \\left(X(1) - X(4)\\right)^{2} + \\left(X(2) - X(5)\\right)^{2}\\right)^{\\frac{3}{2}}} - \\frac{k}{2 \\sqrt{\\left(X(0) - X(3)\\right)^{2} + \\left(X(1) - X(4)\\right)^{2} + \\left(X(2) - X(5)\\right)^{2}}} & \\frac{k \\left(X(1) - X(4)\\right) \\left(X(2) - X(5)\\right)}{2 \\left(\\left(X(0) - X(3)\\right)^{2} + \\left(X(1) - X(4)\\right)^{2} + \\left(X(2) - X(5)\\right)^{2}\\right)^{\\frac{3}{2}}}\\\\\\frac{k \\left(- X(0) + X(3)\\right) \\left(X(2) - X(5)\\right)}{2 \\left(\\left(X(0) - X(3)\\right)^{2} + \\left(X(1) - X(4)\\right)^{2} + \\left(X(2) - X(5)\\right)^{2}\\right)^{\\frac{3}{2}}} & \\frac{k \\left(- X(1) + X(4)\\right) \\left(X(2) - X(5)\\right)}{2 \\left(\\left(X(0) - X(3)\\right)^{2} + \\left(X(1) - X(4)\\right)^{2} + \\left(X(2) - X(5)\\right)^{2}\\right)^{\\frac{3}{2}}} & \\frac{k \\left(- X(2) + X(5)\\right) \\left(X(2) - X(5)\\right)}{2 \\left(\\left(X(0) - X(3)\\right)^{2} + \\left(X(1) - X(4)\\right)^{2} + \\left(X(2) - X(5)\\right)^{2}\\right)^{\\frac{3}{2}}} + \\frac{k}{2 \\sqrt{\\left(X(0) - X(3)\\right)^{2} + \\left(X(1) - X(4)\\right)^{2} + \\left(X(2) - X(5)\\right)^{2}}} & \\frac{k \\left(X(0) - X(3)\\right) \\left(X(2) - X(5)\\right)}{2 \\left(\\left(X(0) - X(3)\\right)^{2} + \\left(X(1) - X(4)\\right)^{2} + \\left(X(2) - X(5)\\right)^{2}\\right)^{\\frac{3}{2}}} & \\frac{k \\left(X(1) - X(4)\\right) \\left(X(2) - X(5)\\right)}{2 \\left(\\left(X(0) - X(3)\\right)^{2} + \\left(X(1) - X(4)\\right)^{2} + \\left(X(2) - X(5)\\right)^{2}\\right)^{\\frac{3}{2}}} & \\frac{k \\left(X(2) - X(5)\\right)^{2}}{2 \\left(\\left(X(0) - X(3)\\right)^{2} + \\left(X(1) - X(4)\\right)^{2} + \\left(X(2) - X(5)\\right)^{2}\\right)^{\\frac{3}{2}}} - \\frac{k}{2 \\sqrt{\\left(X(0) - X(3)\\right)^{2} + \\left(X(1) - X(4)\\right)^{2} + \\left(X(2) - X(5)\\right)^{2}}}\\\\\\frac{k \\left(- X(0) + X(3)\\right)^{2}}{2 \\left(\\left(X(0) - X(3)\\right)^{2} + \\left(X(1) - X(4)\\right)^{2} + \\left(X(2) - X(5)\\right)^{2}\\right)^{\\frac{3}{2}}} - \\frac{k}{2 \\sqrt{\\left(X(0) - X(3)\\right)^{2} + \\left(X(1) - X(4)\\right)^{2} + \\left(X(2) - X(5)\\right)^{2}}} & \\frac{k \\left(- X(0) + X(3)\\right) \\left(- X(1) + X(4)\\right)}{2 \\left(\\left(X(0) - X(3)\\right)^{2} + \\left(X(1) - X(4)\\right)^{2} + \\left(X(2) - X(5)\\right)^{2}\\right)^{\\frac{3}{2}}} & \\frac{k \\left(- X(0) + X(3)\\right) \\left(- X(2) + X(5)\\right)}{2 \\left(\\left(X(0) - X(3)\\right)^{2} + \\left(X(1) - X(4)\\right)^{2} + \\left(X(2) - X(5)\\right)^{2}\\right)^{\\frac{3}{2}}} & \\frac{k \\left(- X(0) + X(3)\\right) \\left(X(0) - X(3)\\right)}{2 \\left(\\left(X(0) - X(3)\\right)^{2} + \\left(X(1) - X(4)\\right)^{2} + \\left(X(2) - X(5)\\right)^{2}\\right)^{\\frac{3}{2}}} + \\frac{k}{2 \\sqrt{\\left(X(0) - X(3)\\right)^{2} + \\left(X(1) - X(4)\\right)^{2} + \\left(X(2) - X(5)\\right)^{2}}} & \\frac{k \\left(- X(0) + X(3)\\right) \\left(X(1) - X(4)\\right)}{2 \\left(\\left(X(0) - X(3)\\right)^{2} + \\left(X(1) - X(4)\\right)^{2} + \\left(X(2) - X(5)\\right)^{2}\\right)^{\\frac{3}{2}}} & \\frac{k \\left(- X(0) + X(3)\\right) \\left(X(2) - X(5)\\right)}{2 \\left(\\left(X(0) - X(3)\\right)^{2} + \\left(X(1) - X(4)\\right)^{2} + \\left(X(2) - X(5)\\right)^{2}\\right)^{\\frac{3}{2}}}\\\\\\frac{k \\left(- X(0) + X(3)\\right) \\left(- X(1) + X(4)\\right)}{2 \\left(\\left(X(0) - X(3)\\right)^{2} + \\left(X(1) - X(4)\\right)^{2} + \\left(X(2) - X(5)\\right)^{2}\\right)^{\\frac{3}{2}}} & \\frac{k \\left(- X(1) + X(4)\\right)^{2}}{2 \\left(\\left(X(0) - X(3)\\right)^{2} + \\left(X(1) - X(4)\\right)^{2} + \\left(X(2) - X(5)\\right)^{2}\\right)^{\\frac{3}{2}}} - \\frac{k}{2 \\sqrt{\\left(X(0) - X(3)\\right)^{2} + \\left(X(1) - X(4)\\right)^{2} + \\left(X(2) - X(5)\\right)^{2}}} & \\frac{k \\left(- X(1) + X(4)\\right) \\left(- X(2) + X(5)\\right)}{2 \\left(\\left(X(0) - X(3)\\right)^{2} + \\left(X(1) - X(4)\\right)^{2} + \\left(X(2) - X(5)\\right)^{2}\\right)^{\\frac{3}{2}}} & \\frac{k \\left(X(0) - X(3)\\right) \\left(- X(1) + X(4)\\right)}{2 \\left(\\left(X(0) - X(3)\\right)^{2} + \\left(X(1) - X(4)\\right)^{2} + \\left(X(2) - X(5)\\right)^{2}\\right)^{\\frac{3}{2}}} & \\frac{k \\left(- X(1) + X(4)\\right) \\left(X(1) - X(4)\\right)}{2 \\left(\\left(X(0) - X(3)\\right)^{2} + \\left(X(1) - X(4)\\right)^{2} + \\left(X(2) - X(5)\\right)^{2}\\right)^{\\frac{3}{2}}} + \\frac{k}{2 \\sqrt{\\left(X(0) - X(3)\\right)^{2} + \\left(X(1) - X(4)\\right)^{2} + \\left(X(2) - X(5)\\right)^{2}}} & \\frac{k \\left(- X(1) + X(4)\\right) \\left(X(2) - X(5)\\right)}{2 \\left(\\left(X(0) - X(3)\\right)^{2} + \\left(X(1) - X(4)\\right)^{2} + \\left(X(2) - X(5)\\right)^{2}\\right)^{\\frac{3}{2}}}\\\\\\frac{k \\left(- X(0) + X(3)\\right) \\left(- X(2) + X(5)\\right)}{2 \\left(\\left(X(0) - X(3)\\right)^{2} + \\left(X(1) - X(4)\\right)^{2} + \\left(X(2) - X(5)\\right)^{2}\\right)^{\\frac{3}{2}}} & \\frac{k \\left(- X(1) + X(4)\\right) \\left(- X(2) + X(5)\\right)}{2 \\left(\\left(X(0) - X(3)\\right)^{2} + \\left(X(1) - X(4)\\right)^{2} + \\left(X(2) - X(5)\\right)^{2}\\right)^{\\frac{3}{2}}} & \\frac{k \\left(- X(2) + X(5)\\right)^{2}}{2 \\left(\\left(X(0) - X(3)\\right)^{2} + \\left(X(1) - X(4)\\right)^{2} + \\left(X(2) - X(5)\\right)^{2}\\right)^{\\frac{3}{2}}} - \\frac{k}{2 \\sqrt{\\left(X(0) - X(3)\\right)^{2} + \\left(X(1) - X(4)\\right)^{2} + \\left(X(2) - X(5)\\right)^{2}}} & \\frac{k \\left(X(0) - X(3)\\right) \\left(- X(2) + X(5)\\right)}{2 \\left(\\left(X(0) - X(3)\\right)^{2} + \\left(X(1) - X(4)\\right)^{2} + \\left(X(2) - X(5)\\right)^{2}\\right)^{\\frac{3}{2}}} & \\frac{k \\left(X(1) - X(4)\\right) \\left(- X(2) + X(5)\\right)}{2 \\left(\\left(X(0) - X(3)\\right)^{2} + \\left(X(1) - X(4)\\right)^{2} + \\left(X(2) - X(5)\\right)^{2}\\right)^{\\frac{3}{2}}} & \\frac{k \\left(- X(2) + X(5)\\right) \\left(X(2) - X(5)\\right)}{2 \\left(\\left(X(0) - X(3)\\right)^{2} + \\left(X(1) - X(4)\\right)^{2} + \\left(X(2) - X(5)\\right)^{2}\\right)^{\\frac{3}{2}}} + \\frac{k}{2 \\sqrt{\\left(X(0) - X(3)\\right)^{2} + \\left(X(1) - X(4)\\right)^{2} + \\left(X(2) - X(5)\\right)^{2}}}\\end{matrix}\\right]$"
      ],
      "text/plain": [
       "Matrix([\n",
       "[k*(-X(0) + X(3))*(X(0) - X(3))/(2*((X(0) - X(3))**2 + (X(1) - X(4))**2 + (X(2) - X(5))**2)**(3/2)) + k/(2*sqrt((X(0) - X(3))**2 + (X(1) - X(4))**2 + (X(2) - X(5))**2)),                                                                      k*(X(0) - X(3))*(-X(1) + X(4))/(2*((X(0) - X(3))**2 + (X(1) - X(4))**2 + (X(2) - X(5))**2)**(3/2)),                                                                      k*(X(0) - X(3))*(-X(2) + X(5))/(2*((X(0) - X(3))**2 + (X(1) - X(4))**2 + (X(2) - X(5))**2)**(3/2)),             k*(X(0) - X(3))**2/(2*((X(0) - X(3))**2 + (X(1) - X(4))**2 + (X(2) - X(5))**2)**(3/2)) - k/(2*sqrt((X(0) - X(3))**2 + (X(1) - X(4))**2 + (X(2) - X(5))**2)),                                                                       k*(X(0) - X(3))*(X(1) - X(4))/(2*((X(0) - X(3))**2 + (X(1) - X(4))**2 + (X(2) - X(5))**2)**(3/2)),                                                                       k*(X(0) - X(3))*(X(2) - X(5))/(2*((X(0) - X(3))**2 + (X(1) - X(4))**2 + (X(2) - X(5))**2)**(3/2))],\n",
       "[                                                                     k*(-X(0) + X(3))*(X(1) - X(4))/(2*((X(0) - X(3))**2 + (X(1) - X(4))**2 + (X(2) - X(5))**2)**(3/2)), k*(-X(1) + X(4))*(X(1) - X(4))/(2*((X(0) - X(3))**2 + (X(1) - X(4))**2 + (X(2) - X(5))**2)**(3/2)) + k/(2*sqrt((X(0) - X(3))**2 + (X(1) - X(4))**2 + (X(2) - X(5))**2)),                                                                      k*(X(1) - X(4))*(-X(2) + X(5))/(2*((X(0) - X(3))**2 + (X(1) - X(4))**2 + (X(2) - X(5))**2)**(3/2)),                                                                       k*(X(0) - X(3))*(X(1) - X(4))/(2*((X(0) - X(3))**2 + (X(1) - X(4))**2 + (X(2) - X(5))**2)**(3/2)),             k*(X(1) - X(4))**2/(2*((X(0) - X(3))**2 + (X(1) - X(4))**2 + (X(2) - X(5))**2)**(3/2)) - k/(2*sqrt((X(0) - X(3))**2 + (X(1) - X(4))**2 + (X(2) - X(5))**2)),                                                                       k*(X(1) - X(4))*(X(2) - X(5))/(2*((X(0) - X(3))**2 + (X(1) - X(4))**2 + (X(2) - X(5))**2)**(3/2))],\n",
       "[                                                                     k*(-X(0) + X(3))*(X(2) - X(5))/(2*((X(0) - X(3))**2 + (X(1) - X(4))**2 + (X(2) - X(5))**2)**(3/2)),                                                                      k*(-X(1) + X(4))*(X(2) - X(5))/(2*((X(0) - X(3))**2 + (X(1) - X(4))**2 + (X(2) - X(5))**2)**(3/2)), k*(-X(2) + X(5))*(X(2) - X(5))/(2*((X(0) - X(3))**2 + (X(1) - X(4))**2 + (X(2) - X(5))**2)**(3/2)) + k/(2*sqrt((X(0) - X(3))**2 + (X(1) - X(4))**2 + (X(2) - X(5))**2)),                                                                       k*(X(0) - X(3))*(X(2) - X(5))/(2*((X(0) - X(3))**2 + (X(1) - X(4))**2 + (X(2) - X(5))**2)**(3/2)),                                                                       k*(X(1) - X(4))*(X(2) - X(5))/(2*((X(0) - X(3))**2 + (X(1) - X(4))**2 + (X(2) - X(5))**2)**(3/2)),             k*(X(2) - X(5))**2/(2*((X(0) - X(3))**2 + (X(1) - X(4))**2 + (X(2) - X(5))**2)**(3/2)) - k/(2*sqrt((X(0) - X(3))**2 + (X(1) - X(4))**2 + (X(2) - X(5))**2))],\n",
       "[           k*(-X(0) + X(3))**2/(2*((X(0) - X(3))**2 + (X(1) - X(4))**2 + (X(2) - X(5))**2)**(3/2)) - k/(2*sqrt((X(0) - X(3))**2 + (X(1) - X(4))**2 + (X(2) - X(5))**2)),                                                                     k*(-X(0) + X(3))*(-X(1) + X(4))/(2*((X(0) - X(3))**2 + (X(1) - X(4))**2 + (X(2) - X(5))**2)**(3/2)),                                                                     k*(-X(0) + X(3))*(-X(2) + X(5))/(2*((X(0) - X(3))**2 + (X(1) - X(4))**2 + (X(2) - X(5))**2)**(3/2)), k*(-X(0) + X(3))*(X(0) - X(3))/(2*((X(0) - X(3))**2 + (X(1) - X(4))**2 + (X(2) - X(5))**2)**(3/2)) + k/(2*sqrt((X(0) - X(3))**2 + (X(1) - X(4))**2 + (X(2) - X(5))**2)),                                                                      k*(-X(0) + X(3))*(X(1) - X(4))/(2*((X(0) - X(3))**2 + (X(1) - X(4))**2 + (X(2) - X(5))**2)**(3/2)),                                                                      k*(-X(0) + X(3))*(X(2) - X(5))/(2*((X(0) - X(3))**2 + (X(1) - X(4))**2 + (X(2) - X(5))**2)**(3/2))],\n",
       "[                                                                    k*(-X(0) + X(3))*(-X(1) + X(4))/(2*((X(0) - X(3))**2 + (X(1) - X(4))**2 + (X(2) - X(5))**2)**(3/2)),            k*(-X(1) + X(4))**2/(2*((X(0) - X(3))**2 + (X(1) - X(4))**2 + (X(2) - X(5))**2)**(3/2)) - k/(2*sqrt((X(0) - X(3))**2 + (X(1) - X(4))**2 + (X(2) - X(5))**2)),                                                                     k*(-X(1) + X(4))*(-X(2) + X(5))/(2*((X(0) - X(3))**2 + (X(1) - X(4))**2 + (X(2) - X(5))**2)**(3/2)),                                                                      k*(X(0) - X(3))*(-X(1) + X(4))/(2*((X(0) - X(3))**2 + (X(1) - X(4))**2 + (X(2) - X(5))**2)**(3/2)), k*(-X(1) + X(4))*(X(1) - X(4))/(2*((X(0) - X(3))**2 + (X(1) - X(4))**2 + (X(2) - X(5))**2)**(3/2)) + k/(2*sqrt((X(0) - X(3))**2 + (X(1) - X(4))**2 + (X(2) - X(5))**2)),                                                                      k*(-X(1) + X(4))*(X(2) - X(5))/(2*((X(0) - X(3))**2 + (X(1) - X(4))**2 + (X(2) - X(5))**2)**(3/2))],\n",
       "[                                                                    k*(-X(0) + X(3))*(-X(2) + X(5))/(2*((X(0) - X(3))**2 + (X(1) - X(4))**2 + (X(2) - X(5))**2)**(3/2)),                                                                     k*(-X(1) + X(4))*(-X(2) + X(5))/(2*((X(0) - X(3))**2 + (X(1) - X(4))**2 + (X(2) - X(5))**2)**(3/2)),            k*(-X(2) + X(5))**2/(2*((X(0) - X(3))**2 + (X(1) - X(4))**2 + (X(2) - X(5))**2)**(3/2)) - k/(2*sqrt((X(0) - X(3))**2 + (X(1) - X(4))**2 + (X(2) - X(5))**2)),                                                                      k*(X(0) - X(3))*(-X(2) + X(5))/(2*((X(0) - X(3))**2 + (X(1) - X(4))**2 + (X(2) - X(5))**2)**(3/2)),                                                                      k*(X(1) - X(4))*(-X(2) + X(5))/(2*((X(0) - X(3))**2 + (X(1) - X(4))**2 + (X(2) - X(5))**2)**(3/2)), k*(-X(2) + X(5))*(X(2) - X(5))/(2*((X(0) - X(3))**2 + (X(1) - X(4))**2 + (X(2) - X(5))**2)**(3/2)) + k/(2*sqrt((X(0) - X(3))**2 + (X(1) - X(4))**2 + (X(2) - X(5))**2))]])"
      ]
     },
     "execution_count": 16,
     "metadata": {},
     "output_type": "execute_result"
    }
   ],
   "source": [
    "H = VecDiff(G, X)\n",
    "H"
   ]
  },
  {
   "cell_type": "markdown",
   "metadata": {},
   "source": [
    "To generate Eigen Cpp code, we should do the following:\n",
    "1. Declare a `EigenFunctionGenerator` as a context.\n",
    "2. Wrap the Input Variable to a `Closure`.\n",
    "3. Call the `Closure` by inputting the function name and `Expr` (e.g. the `E`, `G`, `H`)."
   ]
  },
  {
   "cell_type": "code",
   "execution_count": 17,
   "metadata": {},
   "outputs": [],
   "source": [
    "Gen = EigenFunctionGenerator()\n",
    "Closure = Gen.Closure(k, L0, X)"
   ]
  },
  {
   "cell_type": "markdown",
   "metadata": {},
   "source": [
    "First, we generate the Eigen Cpp code for the Energy:"
   ]
  },
  {
   "cell_type": "code",
   "execution_count": 18,
   "metadata": {},
   "outputs": [
    {
     "name": "stdout",
     "output_type": "stream",
     "text": [
      "template <typename T>\n",
      "void SpringEnergy(T& E, const T& k, const T& L0, const Eigen::Vector<T,6>& X)\n",
      "{\n",
      "/***************************************************************************************************************************\n",
      "Function generated by SymEigen.py \n",
      "Author: MuGdxy\n",
      "GitHub: https://github.com/MuGdxy\n",
      "E-Mail: lxy819469559@gmail.com\n",
      "****************************************************************************************************************************\n",
      "LaTeX expression:\n",
      "//tex:$$E = \\left[\\begin{matrix}\\frac{k \\left(- L_{0} + \\sqrt{\\left(X(0) - X(3)\\right)^{2} + \\left(X(1) - X(4)\\right)^{2} + \\left(X(2) - X(5)\\right)^{2}}\\right)}{2}\\end{matrix}\\right]$$\n",
      "\n",
      "Symbol Name Mapping:\n",
      "k:\n",
      "    -> {}\n",
      "    -> Matrix([[k]])\n",
      "Symbol Name Mapping:\n",
      "L0:\n",
      "    -> {}\n",
      "    -> Matrix([[L0]])\n",
      "Symbol Name Mapping:\n",
      "X:\n",
      "    -> {}\n",
      "    -> Matrix([[X(0)], [X(1)], [X(2)], [X(3)], [X(4)], [X(5)]])\n",
      "***************************************************************************************************************************/\n",
      "/* Sub Exprs */\n",
      "/* Simplified Expr */\n",
      "E = (1.0/2.0)*k*(-L0 + sqrt((X(0) - X(3) * X(0) - X(3)) + (X(1) - X(4) * X(1) - X(4)) + (X(2) - X(5) * X(2) - X(5))));\n",
      "}\n"
     ]
    }
   ],
   "source": [
    "print(Closure('SpringEnergy', E, 'E'))"
   ]
  },
  {
   "cell_type": "markdown",
   "metadata": {},
   "source": [
    "Then, Gradient:"
   ]
  },
  {
   "cell_type": "code",
   "execution_count": 19,
   "metadata": {},
   "outputs": [
    {
     "name": "stdout",
     "output_type": "stream",
     "text": [
      "template <typename T>\n",
      "void SpringGradient(Eigen::Vector<T,6>& G, const T& k, const T& L0, const Eigen::Vector<T,6>& X)\n",
      "{\n",
      "/*******************************************************************\n",
      "Function generated by SymEigen.py \n",
      "Author: MuGdxy\n",
      "GitHub: https://github.com/MuGdxy\n",
      "E-Mail: lxy819469559@gmail.com\n",
      "********************************************************************\n",
      "LaTeX expression:\n",
      "//tex:$$G = \\left[\\begin{matrix}\\frac{k \\left(X(0) - X(3)\\right)}{2 \\sqrt{\\left(X(0) - X(3)\\right)^{2} + \\left(X(1) - X(4)\\right)^{2} + \\left(X(2) - X(5)\\right)^{2}}}\\\\\\frac{k \\left(X(1) - X(4)\\right)}{2 \\sqrt{\\left(X(0) - X(3)\\right)^{2} + \\left(X(1) - X(4)\\right)^{2} + \\left(X(2) - X(5)\\right)^{2}}}\\\\\\frac{k \\left(X(2) - X(5)\\right)}{2 \\sqrt{\\left(X(0) - X(3)\\right)^{2} + \\left(X(1) - X(4)\\right)^{2} + \\left(X(2) - X(5)\\right)^{2}}}\\\\\\frac{k \\left(- X(0) + X(3)\\right)}{2 \\sqrt{\\left(X(0) - X(3)\\right)^{2} + \\left(X(1) - X(4)\\right)^{2} + \\left(X(2) - X(5)\\right)^{2}}}\\\\\\frac{k \\left(- X(1) + X(4)\\right)}{2 \\sqrt{\\left(X(0) - X(3)\\right)^{2} + \\left(X(1) - X(4)\\right)^{2} + \\left(X(2) - X(5)\\right)^{2}}}\\\\\\frac{k \\left(- X(2) + X(5)\\right)}{2 \\sqrt{\\left(X(0) - X(3)\\right)^{2} + \\left(X(1) - X(4)\\right)^{2} + \\left(X(2) - X(5)\\right)^{2}}}\\end{matrix}\\right]$$\n",
      "\n",
      "Symbol Name Mapping:\n",
      "k:\n",
      "    -> {}\n",
      "    -> Matrix([[k]])\n",
      "Symbol Name Mapping:\n",
      "L0:\n",
      "    -> {}\n",
      "    -> Matrix([[L0]])\n",
      "Symbol Name Mapping:\n",
      "X:\n",
      "    -> {}\n",
      "    -> Matrix([[X(0)], [X(1)], [X(2)], [X(3)], [X(4)], [X(5)]])\n",
      "*******************************************************************/\n",
      "/* Sub Exprs */\n",
      "auto x0 = X(0) - X(3);\n",
      "auto x1 = X(1) - X(4);\n",
      "auto x2 = X(2) - X(5);\n",
      "auto x3 = (1.0/2.0)*k/sqrt((x0 * x0) + (x1 * x1) + (x2 * x2));\n",
      "/* Simplified Expr */\n",
      "G(0) = x0*x3;\n",
      "G(1) = x1*x3;\n",
      "G(2) = x2*x3;\n",
      "G(3) = -x0*x3;\n",
      "G(4) = -x1*x3;\n",
      "G(5) = -x2*x3;\n",
      "}\n"
     ]
    }
   ],
   "source": [
    "print(Closure('SpringGradient', G, 'G'))"
   ]
  },
  {
   "cell_type": "markdown",
   "metadata": {},
   "source": [
    "Finally, Hessian:"
   ]
  },
  {
   "cell_type": "code",
   "execution_count": 20,
   "metadata": {},
   "outputs": [
    {
     "name": "stdout",
     "output_type": "stream",
     "text": [
      "template <typename T>\n",
      "void SpringHessian(Eigen::Matrix<T,6,6>& H, const T& k, const T& L0, const Eigen::Vector<T,6>& X)\n",
      "{\n",
      "/************************************\n",
      "Function generated by SymEigen.py \n",
      "Author: MuGdxy\n",
      "GitHub: https://github.com/MuGdxy\n",
      "E-Mail: lxy819469559@gmail.com\n",
      "*************************************\n",
      "LaTeX expression:\n",
      "//tex:$$H = \\left[\\begin{matrix}\\frac{k \\left(- X(0) + X(3)\\right) \\left(X(0) - X(3)\\right)}{2 \\left(\\left(X(0) - X(3)\\right)^{2} + \\left(X(1) - X(4)\\right)^{2} + \\left(X(2) - X(5)\\right)^{2}\\right)^{\\frac{3}{2}}} + \\frac{k}{2 \\sqrt{\\left(X(0) - X(3)\\right)^{2} + \\left(X(1) - X(4)\\right)^{2} + \\left(X(2) - X(5)\\right)^{2}}} & \\frac{k \\left(X(0) - X(3)\\right) \\left(- X(1) + X(4)\\right)}{2 \\left(\\left(X(0) - X(3)\\right)^{2} + \\left(X(1) - X(4)\\right)^{2} + \\left(X(2) - X(5)\\right)^{2}\\right)^{\\frac{3}{2}}} & \\frac{k \\left(X(0) - X(3)\\right) \\left(- X(2) + X(5)\\right)}{2 \\left(\\left(X(0) - X(3)\\right)^{2} + \\left(X(1) - X(4)\\right)^{2} + \\left(X(2) - X(5)\\right)^{2}\\right)^{\\frac{3}{2}}} & \\frac{k \\left(X(0) - X(3)\\right)^{2}}{2 \\left(\\left(X(0) - X(3)\\right)^{2} + \\left(X(1) - X(4)\\right)^{2} + \\left(X(2) - X(5)\\right)^{2}\\right)^{\\frac{3}{2}}} - \\frac{k}{2 \\sqrt{\\left(X(0) - X(3)\\right)^{2} + \\left(X(1) - X(4)\\right)^{2} + \\left(X(2) - X(5)\\right)^{2}}} & \\frac{k \\left(X(0) - X(3)\\right) \\left(X(1) - X(4)\\right)}{2 \\left(\\left(X(0) - X(3)\\right)^{2} + \\left(X(1) - X(4)\\right)^{2} + \\left(X(2) - X(5)\\right)^{2}\\right)^{\\frac{3}{2}}} & \\frac{k \\left(X(0) - X(3)\\right) \\left(X(2) - X(5)\\right)}{2 \\left(\\left(X(0) - X(3)\\right)^{2} + \\left(X(1) - X(4)\\right)^{2} + \\left(X(2) - X(5)\\right)^{2}\\right)^{\\frac{3}{2}}}\\\\\\frac{k \\left(- X(0) + X(3)\\right) \\left(X(1) - X(4)\\right)}{2 \\left(\\left(X(0) - X(3)\\right)^{2} + \\left(X(1) - X(4)\\right)^{2} + \\left(X(2) - X(5)\\right)^{2}\\right)^{\\frac{3}{2}}} & \\frac{k \\left(- X(1) + X(4)\\right) \\left(X(1) - X(4)\\right)}{2 \\left(\\left(X(0) - X(3)\\right)^{2} + \\left(X(1) - X(4)\\right)^{2} + \\left(X(2) - X(5)\\right)^{2}\\right)^{\\frac{3}{2}}} + \\frac{k}{2 \\sqrt{\\left(X(0) - X(3)\\right)^{2} + \\left(X(1) - X(4)\\right)^{2} + \\left(X(2) - X(5)\\right)^{2}}} & \\frac{k \\left(X(1) - X(4)\\right) \\left(- X(2) + X(5)\\right)}{2 \\left(\\left(X(0) - X(3)\\right)^{2} + \\left(X(1) - X(4)\\right)^{2} + \\left(X(2) - X(5)\\right)^{2}\\right)^{\\frac{3}{2}}} & \\frac{k \\left(X(0) - X(3)\\right) \\left(X(1) - X(4)\\right)}{2 \\left(\\left(X(0) - X(3)\\right)^{2} + \\left(X(1) - X(4)\\right)^{2} + \\left(X(2) - X(5)\\right)^{2}\\right)^{\\frac{3}{2}}} & \\frac{k \\left(X(1) - X(4)\\right)^{2}}{2 \\left(\\left(X(0) - X(3)\\right)^{2} + \\left(X(1) - X(4)\\right)^{2} + \\left(X(2) - X(5)\\right)^{2}\\right)^{\\frac{3}{2}}} - \\frac{k}{2 \\sqrt{\\left(X(0) - X(3)\\right)^{2} + \\left(X(1) - X(4)\\right)^{2} + \\left(X(2) - X(5)\\right)^{2}}} & \\frac{k \\left(X(1) - X(4)\\right) \\left(X(2) - X(5)\\right)}{2 \\left(\\left(X(0) - X(3)\\right)^{2} + \\left(X(1) - X(4)\\right)^{2} + \\left(X(2) - X(5)\\right)^{2}\\right)^{\\frac{3}{2}}}\\\\\\frac{k \\left(- X(0) + X(3)\\right) \\left(X(2) - X(5)\\right)}{2 \\left(\\left(X(0) - X(3)\\right)^{2} + \\left(X(1) - X(4)\\right)^{2} + \\left(X(2) - X(5)\\right)^{2}\\right)^{\\frac{3}{2}}} & \\frac{k \\left(- X(1) + X(4)\\right) \\left(X(2) - X(5)\\right)}{2 \\left(\\left(X(0) - X(3)\\right)^{2} + \\left(X(1) - X(4)\\right)^{2} + \\left(X(2) - X(5)\\right)^{2}\\right)^{\\frac{3}{2}}} & \\frac{k \\left(- X(2) + X(5)\\right) \\left(X(2) - X(5)\\right)}{2 \\left(\\left(X(0) - X(3)\\right)^{2} + \\left(X(1) - X(4)\\right)^{2} + \\left(X(2) - X(5)\\right)^{2}\\right)^{\\frac{3}{2}}} + \\frac{k}{2 \\sqrt{\\left(X(0) - X(3)\\right)^{2} + \\left(X(1) - X(4)\\right)^{2} + \\left(X(2) - X(5)\\right)^{2}}} & \\frac{k \\left(X(0) - X(3)\\right) \\left(X(2) - X(5)\\right)}{2 \\left(\\left(X(0) - X(3)\\right)^{2} + \\left(X(1) - X(4)\\right)^{2} + \\left(X(2) - X(5)\\right)^{2}\\right)^{\\frac{3}{2}}} & \\frac{k \\left(X(1) - X(4)\\right) \\left(X(2) - X(5)\\right)}{2 \\left(\\left(X(0) - X(3)\\right)^{2} + \\left(X(1) - X(4)\\right)^{2} + \\left(X(2) - X(5)\\right)^{2}\\right)^{\\frac{3}{2}}} & \\frac{k \\left(X(2) - X(5)\\right)^{2}}{2 \\left(\\left(X(0) - X(3)\\right)^{2} + \\left(X(1) - X(4)\\right)^{2} + \\left(X(2) - X(5)\\right)^{2}\\right)^{\\frac{3}{2}}} - \\frac{k}{2 \\sqrt{\\left(X(0) - X(3)\\right)^{2} + \\left(X(1) - X(4)\\right)^{2} + \\left(X(2) - X(5)\\right)^{2}}}\\\\\\frac{k \\left(- X(0) + X(3)\\right)^{2}}{2 \\left(\\left(X(0) - X(3)\\right)^{2} + \\left(X(1) - X(4)\\right)^{2} + \\left(X(2) - X(5)\\right)^{2}\\right)^{\\frac{3}{2}}} - \\frac{k}{2 \\sqrt{\\left(X(0) - X(3)\\right)^{2} + \\left(X(1) - X(4)\\right)^{2} + \\left(X(2) - X(5)\\right)^{2}}} & \\frac{k \\left(- X(0) + X(3)\\right) \\left(- X(1) + X(4)\\right)}{2 \\left(\\left(X(0) - X(3)\\right)^{2} + \\left(X(1) - X(4)\\right)^{2} + \\left(X(2) - X(5)\\right)^{2}\\right)^{\\frac{3}{2}}} & \\frac{k \\left(- X(0) + X(3)\\right) \\left(- X(2) + X(5)\\right)}{2 \\left(\\left(X(0) - X(3)\\right)^{2} + \\left(X(1) - X(4)\\right)^{2} + \\left(X(2) - X(5)\\right)^{2}\\right)^{\\frac{3}{2}}} & \\frac{k \\left(- X(0) + X(3)\\right) \\left(X(0) - X(3)\\right)}{2 \\left(\\left(X(0) - X(3)\\right)^{2} + \\left(X(1) - X(4)\\right)^{2} + \\left(X(2) - X(5)\\right)^{2}\\right)^{\\frac{3}{2}}} + \\frac{k}{2 \\sqrt{\\left(X(0) - X(3)\\right)^{2} + \\left(X(1) - X(4)\\right)^{2} + \\left(X(2) - X(5)\\right)^{2}}} & \\frac{k \\left(- X(0) + X(3)\\right) \\left(X(1) - X(4)\\right)}{2 \\left(\\left(X(0) - X(3)\\right)^{2} + \\left(X(1) - X(4)\\right)^{2} + \\left(X(2) - X(5)\\right)^{2}\\right)^{\\frac{3}{2}}} & \\frac{k \\left(- X(0) + X(3)\\right) \\left(X(2) - X(5)\\right)}{2 \\left(\\left(X(0) - X(3)\\right)^{2} + \\left(X(1) - X(4)\\right)^{2} + \\left(X(2) - X(5)\\right)^{2}\\right)^{\\frac{3}{2}}}\\\\\\frac{k \\left(- X(0) + X(3)\\right) \\left(- X(1) + X(4)\\right)}{2 \\left(\\left(X(0) - X(3)\\right)^{2} + \\left(X(1) - X(4)\\right)^{2} + \\left(X(2) - X(5)\\right)^{2}\\right)^{\\frac{3}{2}}} & \\frac{k \\left(- X(1) + X(4)\\right)^{2}}{2 \\left(\\left(X(0) - X(3)\\right)^{2} + \\left(X(1) - X(4)\\right)^{2} + \\left(X(2) - X(5)\\right)^{2}\\right)^{\\frac{3}{2}}} - \\frac{k}{2 \\sqrt{\\left(X(0) - X(3)\\right)^{2} + \\left(X(1) - X(4)\\right)^{2} + \\left(X(2) - X(5)\\right)^{2}}} & \\frac{k \\left(- X(1) + X(4)\\right) \\left(- X(2) + X(5)\\right)}{2 \\left(\\left(X(0) - X(3)\\right)^{2} + \\left(X(1) - X(4)\\right)^{2} + \\left(X(2) - X(5)\\right)^{2}\\right)^{\\frac{3}{2}}} & \\frac{k \\left(X(0) - X(3)\\right) \\left(- X(1) + X(4)\\right)}{2 \\left(\\left(X(0) - X(3)\\right)^{2} + \\left(X(1) - X(4)\\right)^{2} + \\left(X(2) - X(5)\\right)^{2}\\right)^{\\frac{3}{2}}} & \\frac{k \\left(- X(1) + X(4)\\right) \\left(X(1) - X(4)\\right)}{2 \\left(\\left(X(0) - X(3)\\right)^{2} + \\left(X(1) - X(4)\\right)^{2} + \\left(X(2) - X(5)\\right)^{2}\\right)^{\\frac{3}{2}}} + \\frac{k}{2 \\sqrt{\\left(X(0) - X(3)\\right)^{2} + \\left(X(1) - X(4)\\right)^{2} + \\left(X(2) - X(5)\\right)^{2}}} & \\frac{k \\left(- X(1) + X(4)\\right) \\left(X(2) - X(5)\\right)}{2 \\left(\\left(X(0) - X(3)\\right)^{2} + \\left(X(1) - X(4)\\right)^{2} + \\left(X(2) - X(5)\\right)^{2}\\right)^{\\frac{3}{2}}}\\\\\\frac{k \\left(- X(0) + X(3)\\right) \\left(- X(2) + X(5)\\right)}{2 \\left(\\left(X(0) - X(3)\\right)^{2} + \\left(X(1) - X(4)\\right)^{2} + \\left(X(2) - X(5)\\right)^{2}\\right)^{\\frac{3}{2}}} & \\frac{k \\left(- X(1) + X(4)\\right) \\left(- X(2) + X(5)\\right)}{2 \\left(\\left(X(0) - X(3)\\right)^{2} + \\left(X(1) - X(4)\\right)^{2} + \\left(X(2) - X(5)\\right)^{2}\\right)^{\\frac{3}{2}}} & \\frac{k \\left(- X(2) + X(5)\\right)^{2}}{2 \\left(\\left(X(0) - X(3)\\right)^{2} + \\left(X(1) - X(4)\\right)^{2} + \\left(X(2) - X(5)\\right)^{2}\\right)^{\\frac{3}{2}}} - \\frac{k}{2 \\sqrt{\\left(X(0) - X(3)\\right)^{2} + \\left(X(1) - X(4)\\right)^{2} + \\left(X(2) - X(5)\\right)^{2}}} & \\frac{k \\left(X(0) - X(3)\\right) \\left(- X(2) + X(5)\\right)}{2 \\left(\\left(X(0) - X(3)\\right)^{2} + \\left(X(1) - X(4)\\right)^{2} + \\left(X(2) - X(5)\\right)^{2}\\right)^{\\frac{3}{2}}} & \\frac{k \\left(X(1) - X(4)\\right) \\left(- X(2) + X(5)\\right)}{2 \\left(\\left(X(0) - X(3)\\right)^{2} + \\left(X(1) - X(4)\\right)^{2} + \\left(X(2) - X(5)\\right)^{2}\\right)^{\\frac{3}{2}}} & \\frac{k \\left(- X(2) + X(5)\\right) \\left(X(2) - X(5)\\right)}{2 \\left(\\left(X(0) - X(3)\\right)^{2} + \\left(X(1) - X(4)\\right)^{2} + \\left(X(2) - X(5)\\right)^{2}\\right)^{\\frac{3}{2}}} + \\frac{k}{2 \\sqrt{\\left(X(0) - X(3)\\right)^{2} + \\left(X(1) - X(4)\\right)^{2} + \\left(X(2) - X(5)\\right)^{2}}}\\end{matrix}\\right]$$\n",
      "\n",
      "Symbol Name Mapping:\n",
      "k:\n",
      "    -> {}\n",
      "    -> Matrix([[k]])\n",
      "Symbol Name Mapping:\n",
      "L0:\n",
      "    -> {}\n",
      "    -> Matrix([[L0]])\n",
      "Symbol Name Mapping:\n",
      "X:\n",
      "    -> {}\n",
      "    -> Matrix([[X(0)], [X(1)], [X(2)], [X(3)], [X(4)], [X(5)]])\n",
      "************************************/\n",
      "/* Sub Exprs */\n",
      "auto x0 = X(0) - X(3);\n",
      "auto x1 = (x0 * x0);\n",
      "auto x2 = X(1) - X(4);\n",
      "auto x3 = (x2 * x2);\n",
      "auto x4 = X(2) - X(5);\n",
      "auto x5 = (x4 * x4);\n",
      "auto x6 = x1 + x3 + x5;\n",
      "auto x7 = (1.0/2.0)*k;\n",
      "auto x8 = x7/sqrt(x6);\n",
      "auto x9 = -x0;\n",
      "auto x10 = x7/(x6 * sqrt(x6));\n",
      "auto x11 = x0*x10;\n",
      "auto x12 = x11*x9 + x8;\n",
      "auto x13 = -x2;\n",
      "auto x14 = x11*x13;\n",
      "auto x15 = -x4;\n",
      "auto x16 = x11*x15;\n",
      "auto x17 = -x8;\n",
      "auto x18 = x11*x2;\n",
      "auto x19 = x11*x4;\n",
      "auto x20 = x10*x2;\n",
      "auto x21 = x20*x9;\n",
      "auto x22 = x13*x20 + x8;\n",
      "auto x23 = x15*x20;\n",
      "auto x24 = x20*x4;\n",
      "auto x25 = x10*x4;\n",
      "auto x26 = x25*x9;\n",
      "auto x27 = x13*x25;\n",
      "auto x28 = x15*x25 + x8;\n",
      "auto x29 = x10*x9;\n",
      "auto x30 = x13*x29;\n",
      "auto x31 = x15*x29;\n",
      "auto x32 = x10*x13*x15;\n",
      "/* Simplified Expr */\n",
      "H(0,0) = x12;\n",
      "H(0,1) = x14;\n",
      "H(0,2) = x16;\n",
      "H(0,3) = x1*x10 + x17;\n",
      "H(0,4) = x18;\n",
      "H(0,5) = x19;\n",
      "H(1,0) = x21;\n",
      "H(1,1) = x22;\n",
      "H(1,2) = x23;\n",
      "H(1,3) = x18;\n",
      "H(1,4) = x10*x3 + x17;\n",
      "H(1,5) = x24;\n",
      "H(2,0) = x26;\n",
      "H(2,1) = x27;\n",
      "H(2,2) = x28;\n",
      "H(2,3) = x19;\n",
      "H(2,4) = x24;\n",
      "H(2,5) = x10*x5 + x17;\n",
      "H(3,0) = x10*(x9 * x9) + x17;\n",
      "H(3,1) = x30;\n",
      "H(3,2) = x31;\n",
      "H(3,3) = x12;\n",
      "H(3,4) = x21;\n",
      "H(3,5) = x26;\n",
      "H(4,0) = x30;\n",
      "H(4,1) = x10*(x13 * x13) + x17;\n",
      "H(4,2) = x32;\n",
      "H(4,3) = x14;\n",
      "H(4,4) = x22;\n",
      "H(4,5) = x27;\n",
      "H(5,0) = x31;\n",
      "H(5,1) = x32;\n",
      "H(5,2) = x10*(x15 * x15) + x17;\n",
      "H(5,3) = x16;\n",
      "H(5,4) = x23;\n",
      "H(5,5) = x28;\n",
      "}\n"
     ]
    }
   ],
   "source": [
    "print(Closure('SpringHessian', H, 'H'))"
   ]
  }
 ],
 "metadata": {
  "kernelspec": {
   "display_name": "Python 3",
   "language": "python",
   "name": "python3"
  },
  "language_info": {
   "codemirror_mode": {
    "name": "ipython",
    "version": 3
   },
   "file_extension": ".py",
   "mimetype": "text/x-python",
   "name": "python",
   "nbconvert_exporter": "python",
   "pygments_lexer": "ipython3",
   "version": "3.11.5"
  },
  "orig_nbformat": 4
 },
 "nbformat": 4,
 "nbformat_minor": 2
}
